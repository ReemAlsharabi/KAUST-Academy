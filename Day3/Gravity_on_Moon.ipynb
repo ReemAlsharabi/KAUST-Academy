{
 "cells": [
  {
   "cell_type": "markdown",
   "metadata": {
    "id": "p-Nx5dlzhINZ"
   },
   "source": [
    "Expectation: A working solution where the learned function using Linear Regression is close to the training data points.\n",
    "\n",
    "Finding the value of gravity by comparing the equation of motion and the hypthesis function.\n",
    "\n"
   ]
  },
  {
   "cell_type": "code",
   "execution_count": 23,
   "metadata": {
    "colab": {
     "base_uri": "https://localhost:8080/",
     "height": 283
    },
    "id": "cx4pkfo5xeEv",
    "outputId": "c5412c70-dc32-4a1d-8ba0-f94320830045"
   },
   "outputs": [
    {
     "data": {
      "text/plain": [
       "[<matplotlib.lines.Line2D at 0x1f651fbdfd0>]"
      ]
     },
     "execution_count": 23,
     "metadata": {},
     "output_type": "execute_result"
    },
    {
     "data": {
      "image/png": "[encoded data removed]",
      "text/plain": [
       "<Figure size 640x480 with 1 Axes>"
      ]
     },
     "metadata": {},
     "output_type": "display_data"
    }
   ],
   "source": [
    "\"\"\"\n",
    "[Fictional Story]\n",
    "The astronauts on moon wanted to measure the value of gravity on the moon. \n",
    "They decide to throw a spanner from different heights and measure the time needed to cover the distance and based on these values want to extract the value of \n",
    "gravity on moon. \n",
    "The values might be slightly off due to human error and the (very thin) moon atmosphere. \n",
    "Use linear regression to find the value of gravity on the moon.\n",
    "\"\"\"\n",
    "import matplotlib.pyplot as plt\n",
    "import numpy as np\n",
    "\n",
    "gmoon = 9.8/6\n",
    "t = np.linspace(1,3,20)\n",
    "s = 0.5 * gmoon * t**2 + 0.05 * np.random.randn(t.size)\n",
    "plt.plot(t,s,'.')"
   ]
  },
  {
   "cell_type": "code",
   "execution_count": 53,
   "metadata": {},
   "outputs": [
    {
     "name": "stdout",
     "output_type": "stream",
     "text": [
      "1.8550054406964074 = m/s^2\n"
     ]
    }
   ],
   "source": [
    "import numpy.linalg as la\n",
    "\n",
    "X = np.column_stack((np.ones(20), t**2)) # 20 = size(s)\n",
    "theta = la.solve(X.T @ X, X.T @ t)\n",
    "y_hat = X @ theta\n",
    "gravity = 2 * theta[0]\n",
    "print(gravity, \"= m/s^2\")"
   ]
  },
  {
   "cell_type": "code",
   "execution_count": null,
   "metadata": {},
   "outputs": [],
   "source": []
  }
 ],
 "metadata": {
  "colab": {
   "provenance": []
  },
  "kernelspec": {
   "display_name": "Python 3 (ipykernel)",
   "language": "python",
   "name": "python3"
  },
  "language_info": {
   "codemirror_mode": {
    "name": "ipython",
    "version": 3
   },
   "file_extension": ".py",
   "mimetype": "text/x-python",
   "name": "python",
   "nbconvert_exporter": "python",
   "pygments_lexer": "ipython3",
   "version": "3.9.13"
  }
 },
 "nbformat": 4,
 "nbformat_minor": 1
}
