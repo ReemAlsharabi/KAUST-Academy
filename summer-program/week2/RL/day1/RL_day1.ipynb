{
  "cells": [
    {
      "cell_type": "markdown",
      "metadata": {
        "id": "view-in-github",
        "colab_type": "text"
      },
      "source": [
        "<a href=\"https://colab.research.google.com/github/ReemAlsharabi/KAUST-Academy/blob/main/summer-program/week2/RL/RL_day1.ipynb\" target=\"_parent\"><img src=\"https://colab.research.google.com/assets/colab-badge.svg\" alt=\"Open In Colab\"/></a>"
      ]
    },
    {
      "cell_type": "markdown",
      "id": "b82523e1-4c69-4a52-a820-cfbbfb73f6b6",
      "metadata": {
        "id": "b82523e1-4c69-4a52-a820-cfbbfb73f6b6"
      },
      "source": [
        "This notebook has been inspired by [Q* Learning with FrozenLakev2.ipynb](https://colab.research.google.com/github/simoninithomas/Deep_reinforcement_learning_Course/blob/master/Q_Learning_with_FrozenLakev2.ipynb#scrollTo=Xr9nI6dcQM8I) and [Deep Reinforcement Learning Course](https://huggingface.co/learn/deep-rl-course/unit0/introduction?fw=pt) by Thomas Simonini"
      ]
    },
    {
      "cell_type": "markdown",
      "id": "57f2f350-4c97-4700-9707-184e3cedd16f",
      "metadata": {
        "id": "57f2f350-4c97-4700-9707-184e3cedd16f"
      },
      "source": [
        "# Day 1: Introduction to Reinforcement Learning (RL) and Markov Decision Process (MDP)"
      ]
    },
    {
      "cell_type": "markdown",
      "id": "8ce1582e-d13d-410f-a6d1-dea7df636b59",
      "metadata": {
        "id": "8ce1582e-d13d-410f-a6d1-dea7df636b59"
      },
      "source": [
        "Reinforcement Learning (RL) is a branch of machine learning that focuses on learning optimal actions to take in a given environment to maximize a cumulative reward or return.\n",
        "\n",
        "Markov Decision Process (MDP) is a mathematical framework for modeling decision-making problems in RL. It consists of states, actions, transition probabilities, and rewards.\n"
      ]
    },
    {
      "cell_type": "markdown",
      "id": "faf75453-1877-495b-b1dd-16ba52cc0dbe",
      "metadata": {
        "id": "faf75453-1877-495b-b1dd-16ba52cc0dbe"
      },
      "source": [
        "## OpenAI Gym"
      ]
    },
    {
      "cell_type": "markdown",
      "id": "fecb42a8-324d-4bd4-b3b8-e60b7c911d50",
      "metadata": {
        "id": "fecb42a8-324d-4bd4-b3b8-e60b7c911d50"
      },
      "source": [
        "[OpenAI Gym](https://www.gymlibrary.dev/) is a toolkit for developing and comparing reinforcement learning (RL) algorithms. It consists of a growing suite of environments (from simulated robots to Atari games), and a site for comparing and reproducing results. OpenAI Gym provides a diverse suite of environments that range from easy to difficult and involve many different kinds of data.\n",
        "\n",
        "Creating and Interacting with gym environments is very simple.\n",
        "\n",
        "```\n",
        "import gym\n",
        "env = gym.make(\"CartPole-v1\")\n",
        "observation, info = env.reset(seed=42)\n",
        "\n",
        "for _ in range(1000):\n",
        "    action = env.action_space.sample()\n",
        "    observation, reward, done, truncated, info = env.step(action)\n",
        "\n",
        "    if terminated or truncated:\n",
        "        observation, info = env.reset()\n",
        "env.close()\n",
        "```\n",
        "\n",
        "Following are the definitions of some common terminologies used.\n",
        "\n",
        "**Reset:** Resets the environment to an initial state and returns the initial observation. <br>\n",
        "**Step:** Run one timestep of the environment's dynamics.<br>\n",
        "**Observation:** The observed state of the environment.<br>\n",
        "**Action:** An action provided by the agent.<br>\n",
        "**Reward:** The amount of reward returned as a result of taking the action.<br>\n",
        "**Terminated:** Whether a terminal state (as defined under the MDP of the task) is reached.<br>\n",
        "**Truncated:** Whether a truncation condition outside the scope of the MDP is satisfied. Typically a timelimit, but could also be used to indicate agent physically going out of bounds.<br>\n",
        "**Info:** This contains auxiliary diagnostic information (helpful for debugging, learning, and logging).<br>\n",
        "**Action Space:** This attribute gives the format of valid actions. It is of datatype Space provided by Gym. For example, if the action space is of type Discrete and gives the value Discrete(2), this means there are two valid discrete actions: 0 & 1.<br>\n",
        "**Observation:** This attribute gives the format of valid observations. It is of datatype Space provided by Gym. For example, if the observation space is of type Box and the shape of the object is (4,), this denotes a valid observation will be an array of 4 numbers.<br>\n",
        "\n",
        "Note: Previously, `terminated` and `truncated` used to be merged under one variable `done`. <br>\n",
        "\n",
        "\n",
        "We will use OpenAI Gym for Frozen Lake (2D) and Cart Pole (1D) environments."
      ]
    },
    {
      "cell_type": "markdown",
      "id": "fcdc8ec7-b351-4ca9-9d7f-831c31111ee6",
      "metadata": {
        "id": "fcdc8ec7-b351-4ca9-9d7f-831c31111ee6"
      },
      "source": [
        "# Cart Pole\n",
        "\n",
        "|   |   |\n",
        "|---|---|\n",
        "| Action Space | Discrete(2) |\n",
        "| Observation Shape | (4,) |\n",
        "| Observation High | [4.8   inf 0.42  inf] |\n",
        "| Observation Low | [-4.8   -inf -0.42  -inf] |\n",
        "| Import | `gym.make(\"CartPole-v1\")` |\n",
        "\n",
        "\n",
        "### Description\n",
        "\n",
        "This environment corresponds to the version of the cart-pole problem described by Barto, Sutton, and Anderson in\n",
        "[\"Neuronlike Adaptive Elements That Can Solve Difficult Learning Control Problem\"](https://ieeexplore.ieee.org/document/6313077).\n",
        "A pole is attached by an un-actuated joint to a cart, which moves along a frictionless track.\n",
        "The pendulum is placed upright on the cart and the goal is to balance the pole by applying forces\n",
        " in the left and right direction on the cart.\n",
        "\n",
        "### Action Space\n",
        "\n",
        "The action is a `ndarray` with shape `(1,)` which can take values `{0, 1}` indicating the direction\n",
        " of the fixed force the cart is pushed with.\n",
        "\n",
        "| Num | Action                 |\n",
        "|-----|------------------------|\n",
        "| 0   | Push cart to the left  |\n",
        "| 1   | Push cart to the right |\n",
        "\n",
        "**Note**: The velocity that is reduced or increased by the applied force is not fixed and it depends on the angle\n",
        " the pole is pointing. The center of gravity of the pole varies the amount of energy needed to move the cart underneath it\n",
        "\n",
        "### Observation Space\n",
        "\n",
        "The observation is a `ndarray` with shape `(4,)` with the values corresponding to the following positions and velocities:\n",
        "\n",
        "| Num | Observation           | Min                 | Max               |\n",
        "|-----|-----------------------|---------------------|-------------------|\n",
        "| 0   | Cart Position         | -4.8                | 4.8               |\n",
        "| 1   | Cart Velocity         | -Inf                | Inf               |\n",
        "| 2   | Pole Angle            | ~ -0.418 rad (-24°) | ~ 0.418 rad (24°) |\n",
        "| 3   | Pole Angular Velocity | -Inf                | Inf               |\n",
        "\n",
        "**Note:** While the ranges above denote the possible values for observation space of each element,\n",
        "    it is not reflective of the allowed values of the state space in an unterminated episode. Particularly:\n",
        "-  The cart x-position (index 0) can be take values between `(-4.8, 4.8)`, but the episode terminates\n",
        "   if the cart leaves the `(-2.4, 2.4)` range.\n",
        "-  The pole angle can be observed between  `(-.418, .418)` radians (or **±24°**), but the episode terminates\n",
        "   if the pole angle is not in the range `(-.2095, .2095)` (or **±12°**)\n",
        "\n",
        "### Rewards\n",
        "\n",
        "Since the goal is to keep the pole upright for as long as possible, a reward of `+1` for every step taken,\n",
        "including the termination step, is allotted. The threshold for rewards is 475 for v1.\n",
        "\n",
        "### Starting State\n",
        "\n",
        "All observations are assigned a uniformly random value in `(-0.05, 0.05)`\n",
        "\n",
        "### Episode End\n",
        "\n",
        "The episode ends if any one of the following occurs:\n",
        "\n",
        "1. Termination: Pole Angle is greater than ±12°\n",
        "2. Termination: Cart Position is greater than ±2.4 (center of the cart reaches the edge of the display)\n",
        "3. Truncation: Episode length is greater than 500 (200 for v0)"
      ]
    },
    {
      "cell_type": "markdown",
      "id": "67aebdb6-239c-4555-a8a3-d28e499a5d27",
      "metadata": {
        "id": "67aebdb6-239c-4555-a8a3-d28e499a5d27"
      },
      "source": [
        "Docs/source: https://www.gymlibrary.dev/environments/classic_control/cart_pole/"
      ]
    },
    {
      "cell_type": "markdown",
      "id": "f7188440-8fb8-4ecb-85c9-77fc797ec6f7",
      "metadata": {
        "id": "f7188440-8fb8-4ecb-85c9-77fc797ec6f7"
      },
      "source": [
        "# Policies\n",
        "A policy is a mapping from states to actions. It determines the action to take in each state.\n",
        "\n",
        "In the following code cells, we will define and evaluate different policies for the 1D and 2D environments.\n"
      ]
    },
    {
      "cell_type": "code",
      "execution_count": null,
      "id": "5ff64163-5a64-41c8-9141-c7bd2eb5e231",
      "metadata": {
        "tags": [],
        "id": "5ff64163-5a64-41c8-9141-c7bd2eb5e231"
      },
      "outputs": [],
      "source": [
        "import gym"
      ]
    },
    {
      "cell_type": "code",
      "execution_count": null,
      "id": "ed784bc8-1f05-4907-9044-9e17cebb2484",
      "metadata": {
        "tags": [],
        "id": "ed784bc8-1f05-4907-9044-9e17cebb2484"
      },
      "outputs": [],
      "source": [
        "# Function to evaluate a policy in an environment\n",
        "def evaluate_policy(env, policy, num_episodes=1000):\n",
        "    rewards = []\n",
        "    for _ in range(num_episodes):\n",
        "        state, _ = env.reset()\n",
        "        episode_reward = 0\n",
        "        done = False\n",
        "        while not done:\n",
        "            action = policy(state)\n",
        "            next_state, reward, terminated, truncated, info = env.step(action)\n",
        "            done = terminated or truncated\n",
        "            episode_reward += reward\n",
        "            state = next_state\n",
        "        rewards.append(episode_reward)\n",
        "    return sum(rewards) / num_episodes"
      ]
    },
    {
      "cell_type": "markdown",
      "id": "cd6291cb-4fa5-46cc-92db-aa4ebc9de0e3",
      "metadata": {
        "id": "cd6291cb-4fa5-46cc-92db-aa4ebc9de0e3"
      },
      "source": [
        "## 1D"
      ]
    },
    {
      "cell_type": "code",
      "execution_count": null,
      "id": "a9e2042f-3458-4776-912a-8fd0e1917342",
      "metadata": {
        "tags": [],
        "id": "a9e2042f-3458-4776-912a-8fd0e1917342"
      },
      "outputs": [],
      "source": [
        "# Create the CartPole environment (1D)\n",
        "env_1d = gym.make(\"CartPole-v1\", render_mode=\"rgb_array\")"
      ]
    },
    {
      "cell_type": "code",
      "execution_count": null,
      "id": "7016617b-1b78-43e5-b874-658bdfb10c0a",
      "metadata": {
        "tags": [],
        "id": "7016617b-1b78-43e5-b874-658bdfb10c0a",
        "outputId": "3469f9c4-b890-4ff7-9cc4-75c969a308af"
      },
      "outputs": [
        {
          "data": {
            "text/plain": [
              "Box([-4.8000002e+00 -3.4028235e+38 -4.1887903e-01 -3.4028235e+38], [4.8000002e+00 3.4028235e+38 4.1887903e-01 3.4028235e+38], (4,), float32)"
            ]
          },
          "execution_count": 4,
          "metadata": {},
          "output_type": "execute_result"
        }
      ],
      "source": [
        "env_1d.observation_space"
      ]
    },
    {
      "cell_type": "code",
      "execution_count": null,
      "id": "06aed737-4776-4179-bf90-afe40014fad9",
      "metadata": {
        "tags": [],
        "id": "06aed737-4776-4179-bf90-afe40014fad9",
        "outputId": "72d34cc3-0289-4d46-e725-ae8a62fcef7d"
      },
      "outputs": [
        {
          "data": {
            "text/plain": [
              "(Discrete(2), 2)"
            ]
          },
          "execution_count": 5,
          "metadata": {},
          "output_type": "execute_result"
        }
      ],
      "source": [
        "env_1d.action_space, env_1d.action_space.n"
      ]
    },
    {
      "cell_type": "code",
      "execution_count": null,
      "id": "3bfadc97-8fb0-4886-b38d-b8271a731977",
      "metadata": {
        "tags": [],
        "id": "3bfadc97-8fb0-4886-b38d-b8271a731977"
      },
      "outputs": [],
      "source": [
        "# Define the \"Always Left\" policy\n",
        "def always_left_policy(observation):\n",
        "    return 0  # Action: Push cart to the left\n",
        "\n",
        "# Define the \"Always Right\" policy\n",
        "def always_right_policy(observation):\n",
        "    return 1  # Action: Push cart to the right"
      ]
    },
    {
      "cell_type": "code",
      "execution_count": null,
      "id": "7ebbf0bd-2981-4978-95e5-6a54752835ab",
      "metadata": {
        "tags": [],
        "id": "7ebbf0bd-2981-4978-95e5-6a54752835ab",
        "outputId": "b7abd085-c943-4da0-e8f6-d002d5d33253"
      },
      "outputs": [
        {
          "name": "stderr",
          "output_type": "stream",
          "text": [
            "/Users/aljahdmk/miniconda3/envs/RL/lib/python3.11/site-packages/gym/utils/passive_env_checker.py:233: DeprecationWarning: `np.bool8` is a deprecated alias for `np.bool_`.  (Deprecated NumPy 1.24)\n",
            "  if not isinstance(terminated, (bool, np.bool8)):\n"
          ]
        },
        {
          "data": {
            "text/plain": [
              "9.326"
            ]
          },
          "execution_count": 7,
          "metadata": {},
          "output_type": "execute_result"
        }
      ],
      "source": [
        "evaluate_policy(env_1d, always_left_policy)"
      ]
    },
    {
      "cell_type": "code",
      "execution_count": null,
      "id": "f28c3bf3-c657-4669-9a4e-3431eeaa2660",
      "metadata": {
        "tags": [],
        "id": "f28c3bf3-c657-4669-9a4e-3431eeaa2660",
        "outputId": "f1c076af-e818-4eba-8eda-093ee11678f9"
      },
      "outputs": [
        {
          "data": {
            "text/plain": [
              "9.371"
            ]
          },
          "execution_count": 8,
          "metadata": {},
          "output_type": "execute_result"
        }
      ],
      "source": [
        "evaluate_policy(env_1d, always_right_policy)"
      ]
    },
    {
      "cell_type": "markdown",
      "id": "0d5a0543-ec5c-41c1-a821-0c908b8b5488",
      "metadata": {
        "id": "0d5a0543-ec5c-41c1-a821-0c908b8b5488"
      },
      "source": [
        "### Visualization"
      ]
    },
    {
      "cell_type": "code",
      "execution_count": null,
      "id": "6aa462a4-0b39-49f3-a671-9127841be765",
      "metadata": {
        "id": "6aa462a4-0b39-49f3-a671-9127841be765",
        "tags": []
      },
      "outputs": [],
      "source": [
        "# For visualization\n",
        "from gym.wrappers.monitoring import video_recorder\n",
        "from IPython.display import HTML\n",
        "from IPython import display\n",
        "import glob\n",
        "import base64, io, os\n",
        "\n",
        "os.environ['SDL_VIDEODRIVER']='dummy'"
      ]
    },
    {
      "cell_type": "code",
      "execution_count": null,
      "id": "3aea3f97-6e6c-4b84-b6a4-29d376313b8e",
      "metadata": {
        "id": "3aea3f97-6e6c-4b84-b6a4-29d376313b8e",
        "tags": []
      },
      "outputs": [],
      "source": [
        "os.makedirs(\"video\", exist_ok=True)\n",
        "\n",
        "def show_video(env_name):\n",
        "    mp4list = glob.glob('video/*.mp4')\n",
        "    if len(mp4list) > 0:\n",
        "        mp4 = 'video/{}.mp4'.format(env_name)\n",
        "        video = io.open(mp4, 'r+b').read()\n",
        "        encoded = base64.b64encode(video)\n",
        "        display.display(HTML(data='''<video alt=\"test\" autoplay\n",
        "                loop controls style=\"height: 400px;\">\n",
        "                <source src=\"data:video/mp4;base64,{0}\" type=\"video/mp4\" />\n",
        "             </video>'''.format(encoded.decode('ascii'))))\n",
        "    else:\n",
        "        print(\"Could not find video\")\n",
        "\n",
        "def show_video_of_model(env_name, env, policy, max_steps=10000):\n",
        "    vid = video_recorder.VideoRecorder(env, path=\"video/{}.mp4\".format(env_name))\n",
        "    state, _ = env.reset()\n",
        "    done = False\n",
        "    for t in range(max_steps):\n",
        "        vid.capture_frame()\n",
        "        action = policy(state)\n",
        "        next_state, reward, terminated, truncated, info = env.step(action)\n",
        "        done = terminated or truncated\n",
        "        print(f\"state: {state}, action: {action}\",next_state, reward, done)\n",
        "        state = next_state\n",
        "        if done:\n",
        "            break\n",
        "    vid.close()\n",
        "    env.close()"
      ]
    },
    {
      "cell_type": "code",
      "execution_count": null,
      "id": "b19557b0-9fb4-4d0f-af14-6a90dda1245e",
      "metadata": {
        "colab": {
          "base_uri": "https://localhost:8080/"
        },
        "id": "b19557b0-9fb4-4d0f-af14-6a90dda1245e",
        "outputId": "795af2bb-c2d0-4c42-83d1-ecdf87257794",
        "tags": []
      },
      "outputs": [
        {
          "name": "stdout",
          "output_type": "stream",
          "text": [
            "state: [-0.02310837 -0.03318267 -0.02837686  0.02661645], action: 0 [-0.02377203 -0.22788642 -0.02784453  0.31021282] 1.0 False\n",
            "state: [-0.02377203 -0.22788642 -0.02784453  0.31021282], action: 0 [-0.02832976 -0.42260084 -0.02164027  0.593986  ] 1.0 False\n",
            "state: [-0.02832976 -0.42260084 -0.02164027  0.593986  ], action: 0 [-0.03678177 -0.6174133  -0.00976055  0.8797745 ] 1.0 False\n",
            "state: [-0.03678177 -0.6174133  -0.00976055  0.8797745 ], action: 0 [-0.04913004 -0.8124013   0.00783494  1.169373  ] 1.0 False\n",
            "state: [-0.04913004 -0.8124013   0.00783494  1.169373  ], action: 0 [-0.06537806 -1.0076243   0.0312224   1.464502  ] 1.0 False\n",
            "state: [-0.06537806 -1.0076243   0.0312224   1.464502  ], action: 0 [-0.08553055 -1.2031144   0.06051243  1.7667722 ] 1.0 False\n",
            "state: [-0.08553055 -1.2031144   0.06051243  1.7667722 ], action: 0 [-0.10959284 -1.3988656   0.09584787  2.0776412 ] 1.0 False\n",
            "state: [-0.10959284 -1.3988656   0.09584787  2.0776412 ], action: 0 [-0.13757014 -1.5948193   0.1374007   2.398359  ] 1.0 False\n",
            "state: [-0.13757014 -1.5948193   0.1374007   2.398359  ], action: 0 [-0.16946654 -1.7908494   0.18536788  2.7299016 ] 1.0 False\n",
            "state: [-0.16946654 -1.7908494   0.18536788  2.7299016 ], action: 0 [-0.20528352 -1.9867424   0.23996592  3.0728936 ] 1.0 True\n",
            "Moviepy - Building video video/CartPole-v1.mp4.\n",
            "Moviepy - Writing video video/CartPole-v1.mp4\n",
            "\n"
          ]
        },
        {
          "name": "stderr",
          "output_type": "stream",
          "text": [
            "                                                                                                  "
          ]
        },
        {
          "name": "stdout",
          "output_type": "stream",
          "text": [
            "Moviepy - Done !\n",
            "Moviepy - video ready video/CartPole-v1.mp4\n"
          ]
        },
        {
          "name": "stderr",
          "output_type": "stream",
          "text": [
            "\r"
          ]
        }
      ],
      "source": [
        "show_video_of_model(\"CartPole-v1\", env_1d, always_left_policy)"
      ]
    },
    {
      "cell_type": "code",
      "execution_count": null,
      "id": "2d149343-18ee-40f9-ad41-69ba99dc761b",
      "metadata": {
        "colab": {
          "base_uri": "https://localhost:8080/",
          "height": 421
        },
        "id": "2d149343-18ee-40f9-ad41-69ba99dc761b",
        "outputId": "637b8498-b53d-470a-870c-97b424df1a84",
        "tags": []
      },
      "outputs": [
        {
          "data": {
            "text/html": [
              "<video alt=\"test\" autoplay\n",
              "                loop controls style=\"height: 400px;\">\n",
              "                <source src=\"data:video/mp4;base64,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\" type=\"video/mp4\" />\n",
              "             </video>"
            ],
            "text/plain": [
              "<IPython.core.display.HTML object>"
            ]
          },
          "metadata": {},
          "output_type": "display_data"
        }
      ],
      "source": [
        "show_video(\"CartPole-v1\")"
      ]
    },
    {
      "cell_type": "markdown",
      "id": "d11d6e57-b055-45e5-83c9-99ac3d39cde4",
      "metadata": {
        "id": "d11d6e57-b055-45e5-83c9-99ac3d39cde4"
      },
      "source": [
        "## Frozen Lake"
      ]
    },
    {
      "cell_type": "markdown",
      "id": "6be61d3f-a188-4377-b944-a9b4ee06a3d1",
      "metadata": {
        "id": "6be61d3f-a188-4377-b944-a9b4ee06a3d1"
      },
      "source": [
        "Frozen lake is a toy text environment involves crossing a frozen lake from start to goal without falling into any holes by walking over the frozen lake. <br>\n",
        "\n",
        "We can also set the lake to be slippery so that the agent does not always move in the intended direction. \\but here, we will only look at the non-slippery case. But you are welcome to try the slippery one.<br>\n",
        "\n",
        "You can read more about the environment [here](https://gymnasium.farama.org/environments/toy_text/frozen_lake/).\n",
        "\n",
        "![Frozen Lake](https://gymnasium.farama.org/_images/frozen_lake.gif)\n"
      ]
    },
    {
      "cell_type": "markdown",
      "id": "1221d41e-7952-431f-b0b5-54a2f05b3bef",
      "metadata": {
        "id": "1221d41e-7952-431f-b0b5-54a2f05b3bef"
      },
      "source": [
        "|   |   |\n",
        "|---|---|\n",
        "| Action Space | Discrete(4) |\n",
        "| Observation Space | Discrete(16) |\n",
        "| Import | `gym.make(\"FrozenLake-v1\")` |\n",
        "\n",
        "\n",
        "Frozen lake involves crossing a frozen lake from Start(S) to Goal(G) without falling into any Holes(H)\n",
        "by walking over the Frozen(F) lake.\n",
        "The agent may not always move in the intended direction due to the slippery nature of the frozen lake.\n",
        "\n",
        "\n",
        "### Action Space\n",
        "The agent takes a 1-element vector for actions.\n",
        "The action space is `(dir)`, where `dir` decides direction to move in which can be:\n",
        "\n",
        "- 0: LEFT\n",
        "- 1: DOWN\n",
        "- 2: RIGHT\n",
        "- 3: UP\n",
        "\n",
        "### Observation Space\n",
        "The observation is a value representing the agent's current position as\n",
        "current_row * nrows + current_col (where both the row and col start at 0).\n",
        "For example, the goal position in the 4x4 map can be calculated as follows: 3 * 4 + 3 = 15.\n",
        "The number of possible observations is dependent on the size of the map.\n",
        "For example, the 4x4 map has 16 possible observations.\n",
        "\n",
        "### Rewards\n",
        "\n",
        "Reward schedule:\n",
        "- Reach goal(G): +1\n",
        "- Reach hole(H): 0\n",
        "- Reach frozen(F): 0\n",
        "\n",
        "### Arguments\n",
        "\n",
        "```\n",
        "gym.make('FrozenLake-v1', desc=None, map_name=\"4x4\", is_slippery=True)\n",
        "```\n",
        "\n",
        "`desc`: Used to specify custom map for frozen lake. For example,\n",
        "\n",
        "    desc=[\"SFFF\", \"FHFH\", \"FFFH\", \"HFFG\"].\n",
        "\n",
        "    A random generated map can be specified by calling the function `generate_random_map`. For example,\n",
        "\n",
        "    ```\n",
        "    from gym.envs.toy_text.frozen_lake import generate_random_map\n",
        "\n",
        "    gym.make('FrozenLake-v1', desc=generate_random_map(size=8))\n",
        "    ```\n",
        "\n",
        "`map_name`: ID to use any of the preloaded maps.\n",
        "\n",
        "    \"4x4\":[\n",
        "        \"SFFF\",\n",
        "        \"FHFH\",\n",
        "        \"FFFH\",\n",
        "        \"HFFG\"\n",
        "        ]\n",
        "\n",
        "    \"8x8\": [\n",
        "        \"SFFFFFFF\",\n",
        "        \"FFFFFFFF\",\n",
        "        \"FFFHFFFF\",\n",
        "        \"FFFFFHFF\",\n",
        "        \"FFFHFFFF\",\n",
        "        \"FHHFFFHF\",\n",
        "        \"FHFFHFHF\",\n",
        "        \"FFFHFFFG\",\n",
        "    ]\n",
        "\n",
        "`is_slippery`: True/False. If True will move in intended direction with\n",
        "probability of 1/3 else will move in either perpendicular direction with\n",
        "equal probability of 1/3 in both directions.\n",
        "\n",
        "    For example, if action is left and is_slippery is True, then:\n",
        "    - P(move left)=1/3\n",
        "    - P(move up)=1/3\n",
        "    - P(move down)=1/3\n"
      ]
    },
    {
      "cell_type": "code",
      "execution_count": null,
      "id": "1039715f-b1e4-4e9f-b90e-1ed8207a2ef5",
      "metadata": {
        "tags": [],
        "id": "1039715f-b1e4-4e9f-b90e-1ed8207a2ef5"
      },
      "outputs": [],
      "source": [
        "env_2d = gym.make(\"FrozenLake-v1\", is_slippery=False, render_mode=\"rgb_array\")"
      ]
    },
    {
      "cell_type": "code",
      "execution_count": null,
      "id": "24ed0f69-99db-46ac-8690-b69867c3ef6a",
      "metadata": {
        "tags": [],
        "id": "24ed0f69-99db-46ac-8690-b69867c3ef6a",
        "outputId": "435f4872-79a5-4522-d728-18f771f631ed"
      },
      "outputs": [
        {
          "data": {
            "text/plain": [
              "Discrete(16)"
            ]
          },
          "execution_count": 33,
          "metadata": {},
          "output_type": "execute_result"
        }
      ],
      "source": [
        "env_2d.observation_space"
      ]
    },
    {
      "cell_type": "code",
      "execution_count": null,
      "id": "742362b9-0a62-4b2a-8547-ca5c849afd7b",
      "metadata": {
        "tags": [],
        "id": "742362b9-0a62-4b2a-8547-ca5c849afd7b",
        "outputId": "a9ec2fdc-91f5-4a12-d95b-e5dc08bd154a"
      },
      "outputs": [
        {
          "data": {
            "text/plain": [
              "Discrete(4)"
            ]
          },
          "execution_count": 34,
          "metadata": {},
          "output_type": "execute_result"
        }
      ],
      "source": [
        "env_2d.action_space"
      ]
    },
    {
      "cell_type": "code",
      "execution_count": null,
      "id": "159d9ffa-ba01-4deb-8fd9-8a47dcb6f21b",
      "metadata": {
        "tags": [],
        "id": "159d9ffa-ba01-4deb-8fd9-8a47dcb6f21b"
      },
      "outputs": [],
      "source": [
        "# Define the \"Always Left\" policy\n",
        "def always_left_policy(observation):\n",
        "    return 0  # Action: Move left\n",
        "\n",
        "# Define the \"Always Right\" policy\n",
        "def always_right_policy(observation):\n",
        "    return 2  # Action: Move right\n",
        "\n",
        "def random_policy(observation):\n",
        "    return random.choice([0, 1, 2, 3])"
      ]
    },
    {
      "cell_type": "code",
      "execution_count": null,
      "id": "e37a8169-b7a9-4e72-8a05-d49e6a796630",
      "metadata": {
        "tags": [],
        "id": "e37a8169-b7a9-4e72-8a05-d49e6a796630",
        "outputId": "573596ef-eca0-4dea-8221-396e2d900fde"
      },
      "outputs": [
        {
          "name": "stderr",
          "output_type": "stream",
          "text": [
            "/Users/aljahdmk/miniconda3/envs/RL/lib/python3.11/site-packages/gym/utils/passive_env_checker.py:233: DeprecationWarning: `np.bool8` is a deprecated alias for `np.bool_`.  (Deprecated NumPy 1.24)\n",
            "  if not isinstance(terminated, (bool, np.bool8)):\n"
          ]
        },
        {
          "data": {
            "text/plain": [
              "0.0"
            ]
          },
          "execution_count": 36,
          "metadata": {},
          "output_type": "execute_result"
        }
      ],
      "source": [
        "evaluate_policy(env_2d, always_left_policy)"
      ]
    },
    {
      "cell_type": "code",
      "execution_count": null,
      "id": "74c95ee2-5a97-4b59-b8ca-2757f3107b6b",
      "metadata": {
        "tags": [],
        "id": "74c95ee2-5a97-4b59-b8ca-2757f3107b6b",
        "outputId": "4b81d07c-f26f-43d6-f75a-3f66a24331ee"
      },
      "outputs": [
        {
          "data": {
            "text/plain": [
              "0.0"
            ]
          },
          "execution_count": 37,
          "metadata": {},
          "output_type": "execute_result"
        }
      ],
      "source": [
        "evaluate_policy(env_2d, always_right_policy)"
      ]
    },
    {
      "cell_type": "code",
      "execution_count": null,
      "id": "3f637ef7-7040-484a-8e4b-b405dcbd4881",
      "metadata": {
        "tags": [],
        "id": "3f637ef7-7040-484a-8e4b-b405dcbd4881",
        "outputId": "ffa8fc99-6946-457a-a5b3-3f336bd79af6"
      },
      "outputs": [
        {
          "data": {
            "text/plain": [
              "0.021"
            ]
          },
          "execution_count": 39,
          "metadata": {},
          "output_type": "execute_result"
        }
      ],
      "source": [
        "evaluate_policy(env_2d, random_policy)"
      ]
    },
    {
      "cell_type": "markdown",
      "id": "0984621a-97e6-477e-9c88-9b10c9795a3c",
      "metadata": {
        "id": "0984621a-97e6-477e-9c88-9b10c9795a3c"
      },
      "source": [
        "## Viz"
      ]
    },
    {
      "cell_type": "code",
      "execution_count": null,
      "id": "885a33f0-8b1f-44d7-855b-ecf335ce03ae",
      "metadata": {
        "colab": {
          "base_uri": "https://localhost:8080/"
        },
        "id": "885a33f0-8b1f-44d7-855b-ecf335ce03ae",
        "outputId": "795af2bb-c2d0-4c42-83d1-ecdf87257794",
        "tags": []
      },
      "outputs": [
        {
          "name": "stdout",
          "output_type": "stream",
          "text": [
            "state: 0, action: 1 4 0.0 False\n",
            "state: 4, action: 3 0 0.0 False\n",
            "state: 0, action: 1 4 0.0 False\n",
            "state: 4, action: 1 8 0.0 False\n",
            "state: 8, action: 3 4 0.0 False\n",
            "state: 4, action: 1 8 0.0 False\n",
            "state: 8, action: 2 9 0.0 False\n",
            "state: 9, action: 1 13 0.0 False\n",
            "state: 13, action: 1 13 0.0 False\n",
            "state: 13, action: 2 14 0.0 False\n",
            "state: 14, action: 1 14 0.0 False\n",
            "state: 14, action: 2 15 1.0 True\n",
            "Moviepy - Building video video/lake.mp4.\n",
            "Moviepy - Writing video video/lake.mp4\n",
            "\n"
          ]
        },
        {
          "name": "stderr",
          "output_type": "stream",
          "text": [
            "                                                                                                  "
          ]
        },
        {
          "name": "stdout",
          "output_type": "stream",
          "text": [
            "Moviepy - Done !\n",
            "Moviepy - video ready video/lake.mp4\n"
          ]
        },
        {
          "name": "stderr",
          "output_type": "stream",
          "text": [
            "\r"
          ]
        }
      ],
      "source": [
        "show_video_of_model(\"lake\", env_2d, random_policy, max_steps=10000)"
      ]
    },
    {
      "cell_type": "code",
      "execution_count": null,
      "id": "def9e124-e63a-4c2f-b4cb-efa77a919f33",
      "metadata": {
        "colab": {
          "base_uri": "https://localhost:8080/",
          "height": 421
        },
        "id": "def9e124-e63a-4c2f-b4cb-efa77a919f33",
        "outputId": "637b8498-b53d-470a-870c-97b424df1a84",
        "tags": []
      },
      "outputs": [
        {
          "data": {
            "text/html": [
              "<video alt=\"test\" autoplay\n",
              "                loop controls style=\"height: 400px;\">\n",
              "                <source src=\"data:video/mp4;base64,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\" type=\"video/mp4\" />\n",
              "             </video>"
            ],
            "text/plain": [
              "<IPython.core.display.HTML object>"
            ]
          },
          "metadata": {},
          "output_type": "display_data"
        }
      ],
      "source": [
        "show_video(\"lake\")"
      ]
    },
    {
      "cell_type": "code",
      "execution_count": null,
      "id": "a904b1ad-97b8-40a9-bb31-0f4752386ba8",
      "metadata": {
        "id": "a904b1ad-97b8-40a9-bb31-0f4752386ba8"
      },
      "outputs": [],
      "source": []
    },
    {
      "cell_type": "code",
      "execution_count": null,
      "id": "3cc251a7-1313-4ef0-9618-da27bb91b168",
      "metadata": {
        "id": "3cc251a7-1313-4ef0-9618-da27bb91b168"
      },
      "outputs": [],
      "source": []
    }
  ],
  "metadata": {
    "kernelspec": {
      "display_name": "Python 3 (ipykernel)",
      "language": "python",
      "name": "python3"
    },
    "language_info": {
      "codemirror_mode": {
        "name": "ipython",
        "version": 3
      },
      "file_extension": ".py",
      "mimetype": "text/x-python",
      "name": "python",
      "nbconvert_exporter": "python",
      "pygments_lexer": "ipython3",
      "version": "3.11.4"
    },
    "colab": {
      "provenance": [],
      "include_colab_link": true
    }
  },
  "nbformat": 4,
  "nbformat_minor": 5
}
