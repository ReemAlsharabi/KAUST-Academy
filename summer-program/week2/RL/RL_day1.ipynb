{
  "cells": [
    {
      "cell_type": "markdown",
      "metadata": {
        "id": "view-in-github",
        "colab_type": "text"
      },
      "source": [
        "<a href=\"https://colab.research.google.com/github/ReemAlsharabi/KAUST-Academy/blob/main/summer-program/week2/RL/RL_day1.ipynb\" target=\"_parent\"><img src=\"https://colab.research.google.com/assets/colab-badge.svg\" alt=\"Open In Colab\"/></a>"
      ]
    },
    {
      "cell_type": "markdown",
      "id": "b82523e1-4c69-4a52-a820-cfbbfb73f6b6",
      "metadata": {
        "id": "b82523e1-4c69-4a52-a820-cfbbfb73f6b6"
      },
      "source": [
        "This notebook has been inspired by [Q* Learning with FrozenLakev2.ipynb](https://colab.research.google.com/github/simoninithomas/Deep_reinforcement_learning_Course/blob/master/Q_Learning_with_FrozenLakev2.ipynb#scrollTo=Xr9nI6dcQM8I) and [Deep Reinforcement Learning Course](https://huggingface.co/learn/deep-rl-course/unit0/introduction?fw=pt) by Thomas Simonini"
      ]
    },
    {
      "cell_type": "code",
      "source": [
        "!pip install gym==0.26.2"
      ],
      "metadata": {
        "id": "dcobTa_yww4x"
      },
      "id": "dcobTa_yww4x",
      "execution_count": null,
      "outputs": []
    },
    {
      "cell_type": "markdown",
      "id": "57f2f350-4c97-4700-9707-184e3cedd16f",
      "metadata": {
        "id": "57f2f350-4c97-4700-9707-184e3cedd16f"
      },
      "source": [
        "# Day 1: Introduction to Reinforcement Learning (RL) and Markov Decision Process (MDP)"
      ]
    },
    {
      "cell_type": "markdown",
      "id": "8ce1582e-d13d-410f-a6d1-dea7df636b59",
      "metadata": {
        "id": "8ce1582e-d13d-410f-a6d1-dea7df636b59"
      },
      "source": [
        "Reinforcement Learning (RL) is a branch of machine learning that focuses on learning optimal actions to take in a given environment to maximize a cumulative reward or return.\n",
        "\n",
        "Markov Decision Process (MDP) is a mathematical framework for modeling decision-making problems in RL. It consists of states, actions, transition probabilities, and rewards.\n"
      ]
    },
    {
      "cell_type": "markdown",
      "id": "faf75453-1877-495b-b1dd-16ba52cc0dbe",
      "metadata": {
        "id": "faf75453-1877-495b-b1dd-16ba52cc0dbe"
      },
      "source": [
        "## OpenAI Gym"
      ]
    },
    {
      "cell_type": "markdown",
      "id": "fecb42a8-324d-4bd4-b3b8-e60b7c911d50",
      "metadata": {
        "id": "fecb42a8-324d-4bd4-b3b8-e60b7c911d50"
      },
      "source": [
        "[OpenAI Gym](https://www.gymlibrary.dev/) is a toolkit for developing and comparing reinforcement learning (RL) algorithms. It consists of a growing suite of environments (from simulated robots to Atari games), and a site for comparing and reproducing results. OpenAI Gym provides a diverse suite of environments that range from easy to difficult and involve many different kinds of data.\n",
        "\n",
        "Creating and Interacting with gym environments is very simple.\n",
        "\n",
        "```\n",
        "import gym\n",
        "env = gym.make(\"CartPole-v1\")\n",
        "observation, info = env.reset(seed=42)\n",
        "\n",
        "for _ in range(1000):\n",
        "    action = env.action_space.sample()\n",
        "    observation, reward, done, truncated, info = env.step(action)\n",
        "\n",
        "    if terminated or truncated:\n",
        "        observation, info = env.reset()\n",
        "env.close()\n",
        "```\n",
        "\n",
        "Following are the definitions of some common terminologies used.\n",
        "\n",
        "**Reset:** Resets the environment to an initial state and returns the initial observation. <br>\n",
        "**Step:** Run one timestep of the environment's dynamics.<br>\n",
        "**Observation:** The observed state of the environment.<br>\n",
        "**Action:** An action provided by the agent.<br>\n",
        "**Reward:** The amount of reward returned as a result of taking the action.<br>\n",
        "**Terminated:** Whether a terminal state (as defined under the MDP of the task) is reached.<br>\n",
        "**Truncated:** Whether a truncation condition outside the scope of the MDP is satisfied. Typically a timelimit, but could also be used to indicate agent physically going out of bounds.<br>\n",
        "**Info:** This contains auxiliary diagnostic information (helpful for debugging, learning, and logging).<br>\n",
        "**Action Space:** This attribute gives the format of valid actions. It is of datatype Space provided by Gym. For example, if the action space is of type Discrete and gives the value Discrete(2), this means there are two valid discrete actions: 0 & 1.<br>\n",
        "**Observation:** This attribute gives the format of valid observations. It is of datatype Space provided by Gym. For example, if the observation space is of type Box and the shape of the object is (4,), this denotes a valid observation will be an array of 4 numbers.<br>\n",
        "\n",
        "Note: Previously, `terminated` and `truncated` used to be merged under one variable `done`. <br>\n",
        "\n",
        "\n",
        "We will use OpenAI Gym for Frozen Lake (2D) and Cart Pole (1D) environments."
      ]
    },
    {
      "cell_type": "markdown",
      "id": "bde246e1-9b2c-4b54-80ab-39ddd3e9435b",
      "metadata": {
        "id": "bde246e1-9b2c-4b54-80ab-39ddd3e9435b"
      },
      "source": [
        "# Cart Pole"
      ]
    },
    {
      "cell_type": "markdown",
      "id": "fcdc8ec7-b351-4ca9-9d7f-831c31111ee6",
      "metadata": {
        "id": "fcdc8ec7-b351-4ca9-9d7f-831c31111ee6"
      },
      "source": [
        "# Cart Pole\n",
        "\n",
        "|   |   |\n",
        "|---|---|\n",
        "| Action Space | Discrete(2) |\n",
        "| Observation Shape | (4,) |\n",
        "| Observation High | [4.8   inf 0.42  inf] |\n",
        "| Observation Low | [-4.8   -inf -0.42  -inf] |\n",
        "| Import | `gym.make(\"CartPole-v1\")` |\n",
        "\n",
        "\n",
        "### Description\n",
        "\n",
        "This environment corresponds to the version of the cart-pole problem described by Barto, Sutton, and Anderson in\n",
        "[\"Neuronlike Adaptive Elements That Can Solve Difficult Learning Control Problem\"](https://ieeexplore.ieee.org/document/6313077).\n",
        "A pole is attached by an un-actuated joint to a cart, which moves along a frictionless track.\n",
        "The pendulum is placed upright on the cart and the goal is to balance the pole by applying forces\n",
        " in the left and right direction on the cart.\n",
        "\n",
        "### Action Space\n",
        "\n",
        "The action is a `ndarray` with shape `(1,)` which can take values `{0, 1}` indicating the direction\n",
        " of the fixed force the cart is pushed with.\n",
        "\n",
        "| Num | Action                 |\n",
        "|-----|------------------------|\n",
        "| 0   | Push cart to the left  |\n",
        "| 1   | Push cart to the right |\n",
        "\n",
        "**Note**: The velocity that is reduced or increased by the applied force is not fixed and it depends on the angle\n",
        " the pole is pointing. The center of gravity of the pole varies the amount of energy needed to move the cart underneath it\n",
        "\n",
        "### Observation Space\n",
        "\n",
        "The observation is a `ndarray` with shape `(4,)` with the values corresponding to the following positions and velocities:\n",
        "\n",
        "| Num | Observation           | Min                 | Max               |\n",
        "|-----|-----------------------|---------------------|-------------------|\n",
        "| 0   | Cart Position         | -4.8                | 4.8               |\n",
        "| 1   | Cart Velocity         | -Inf                | Inf               |\n",
        "| 2   | Pole Angle            | ~ -0.418 rad (-24°) | ~ 0.418 rad (24°) |\n",
        "| 3   | Pole Angular Velocity | -Inf                | Inf               |\n",
        "\n",
        "**Note:** While the ranges above denote the possible values for observation space of each element,\n",
        "    it is not reflective of the allowed values of the state space in an unterminated episode. Particularly:\n",
        "-  The cart x-position (index 0) can be take values between `(-4.8, 4.8)`, but the episode terminates\n",
        "   if the cart leaves the `(-2.4, 2.4)` range.\n",
        "-  The pole angle can be observed between  `(-.418, .418)` radians (or **±24°**), but the episode terminates\n",
        "   if the pole angle is not in the range `(-.2095, .2095)` (or **±12°**)\n",
        "\n",
        "### Rewards\n",
        "\n",
        "Since the goal is to keep the pole upright for as long as possible, a reward of `+1` for every step taken,\n",
        "including the termination step, is allotted. The threshold for rewards is 475 for v1.\n",
        "\n",
        "### Starting State\n",
        "\n",
        "All observations are assigned a uniformly random value in `(-0.05, 0.05)`\n",
        "\n",
        "### Episode End\n",
        "\n",
        "The episode ends if any one of the following occurs:\n",
        "\n",
        "1. Termination: Pole Angle is greater than ±12°\n",
        "2. Termination: Cart Position is greater than ±2.4 (center of the cart reaches the edge of the display)\n",
        "3. Truncation: Episode length is greater than 500 (200 for v0)"
      ]
    },
    {
      "cell_type": "markdown",
      "id": "67aebdb6-239c-4555-a8a3-d28e499a5d27",
      "metadata": {
        "id": "67aebdb6-239c-4555-a8a3-d28e499a5d27"
      },
      "source": [
        "Docs/source: https://www.gymlibrary.dev/environments/classic_control/cart_pole/"
      ]
    },
    {
      "cell_type": "markdown",
      "id": "f7188440-8fb8-4ecb-85c9-77fc797ec6f7",
      "metadata": {
        "id": "f7188440-8fb8-4ecb-85c9-77fc797ec6f7"
      },
      "source": [
        "# Policies\n",
        "A policy is a mapping from states to actions. It determines the action to take in each state.\n",
        "\n",
        "In the following code cells, we will define and evaluate different policies for the 1D and 2D environments.\n"
      ]
    },
    {
      "cell_type": "code",
      "execution_count": 5,
      "id": "5ff64163-5a64-41c8-9141-c7bd2eb5e231",
      "metadata": {
        "tags": [],
        "id": "5ff64163-5a64-41c8-9141-c7bd2eb5e231"
      },
      "outputs": [],
      "source": [
        "import gym\n",
        "import random"
      ]
    },
    {
      "cell_type": "code",
      "execution_count": 6,
      "id": "ed784bc8-1f05-4907-9044-9e17cebb2484",
      "metadata": {
        "tags": [],
        "id": "ed784bc8-1f05-4907-9044-9e17cebb2484"
      },
      "outputs": [],
      "source": [
        "# Function to evaluate a policy in an environment\n",
        "def evaluate_policy(env, policy, num_episodes=1000):\n",
        "    rewards = []\n",
        "    for _ in range(num_episodes):\n",
        "        state, _ = env.reset()\n",
        "        episode_reward = 0\n",
        "        done = False\n",
        "        while not done:\n",
        "            action = policy(state)\n",
        "            next_state, reward, terminated, truncated, info = env.step(action)\n",
        "            done = terminated or truncated\n",
        "            episode_reward += reward\n",
        "            state = next_state\n",
        "        rewards.append(episode_reward)\n",
        "    return sum(rewards) / num_episodes"
      ]
    },
    {
      "cell_type": "markdown",
      "id": "cd6291cb-4fa5-46cc-92db-aa4ebc9de0e3",
      "metadata": {
        "id": "cd6291cb-4fa5-46cc-92db-aa4ebc9de0e3"
      },
      "source": [
        "## 1D"
      ]
    },
    {
      "cell_type": "code",
      "execution_count": 7,
      "id": "a9e2042f-3458-4776-912a-8fd0e1917342",
      "metadata": {
        "tags": [],
        "id": "a9e2042f-3458-4776-912a-8fd0e1917342"
      },
      "outputs": [],
      "source": [
        "# Create the CartPole environment (1D)\n",
        "env_1d = gym.make(\"CartPole-v1\", render_mode=\"rgb_array\")"
      ]
    },
    {
      "cell_type": "code",
      "execution_count": 8,
      "id": "7016617b-1b78-43e5-b874-658bdfb10c0a",
      "metadata": {
        "tags": [],
        "id": "7016617b-1b78-43e5-b874-658bdfb10c0a",
        "outputId": "d62ba319-bdea-495c-96d6-52b172f6e616",
        "colab": {
          "base_uri": "https://localhost:8080/"
        }
      },
      "outputs": [
        {
          "output_type": "execute_result",
          "data": {
            "text/plain": [
              "Box([-4.8000002e+00 -3.4028235e+38 -4.1887903e-01 -3.4028235e+38], [4.8000002e+00 3.4028235e+38 4.1887903e-01 3.4028235e+38], (4,), float32)"
            ]
          },
          "metadata": {},
          "execution_count": 8
        }
      ],
      "source": [
        "env_1d.observation_space"
      ]
    },
    {
      "cell_type": "code",
      "execution_count": 9,
      "id": "06aed737-4776-4179-bf90-afe40014fad9",
      "metadata": {
        "tags": [],
        "id": "06aed737-4776-4179-bf90-afe40014fad9",
        "outputId": "905c8d32-2d8b-4eb1-d6d4-360f11bdb9c7",
        "colab": {
          "base_uri": "https://localhost:8080/"
        }
      },
      "outputs": [
        {
          "output_type": "execute_result",
          "data": {
            "text/plain": [
              "(Discrete(2), 2)"
            ]
          },
          "metadata": {},
          "execution_count": 9
        }
      ],
      "source": [
        "env_1d.action_space, env_1d.action_space.n"
      ]
    },
    {
      "cell_type": "code",
      "execution_count": 10,
      "id": "3bfadc97-8fb0-4886-b38d-b8271a731977",
      "metadata": {
        "tags": [],
        "id": "3bfadc97-8fb0-4886-b38d-b8271a731977"
      },
      "outputs": [],
      "source": [
        "# Define the \"Always Left\" policy\n",
        "def always_left_policy(observation):\n",
        "    return 0  # Action: Push cart to the left\n",
        "\n",
        "# Define the \"Always Right\" policy\n",
        "def always_right_policy(observation):\n",
        "    return 1  # Action: Push cart to the right"
      ]
    },
    {
      "cell_type": "code",
      "execution_count": 11,
      "id": "7ebbf0bd-2981-4978-95e5-6a54752835ab",
      "metadata": {
        "tags": [],
        "id": "7ebbf0bd-2981-4978-95e5-6a54752835ab",
        "outputId": "bec98a8c-165b-42b0-fe5a-fbe0c2942b8f",
        "colab": {
          "base_uri": "https://localhost:8080/"
        }
      },
      "outputs": [
        {
          "output_type": "execute_result",
          "data": {
            "text/plain": [
              "9.34"
            ]
          },
          "metadata": {},
          "execution_count": 11
        }
      ],
      "source": [
        "evaluate_policy(env_1d, always_left_policy)"
      ]
    },
    {
      "cell_type": "code",
      "execution_count": 12,
      "id": "f28c3bf3-c657-4669-9a4e-3431eeaa2660",
      "metadata": {
        "tags": [],
        "id": "f28c3bf3-c657-4669-9a4e-3431eeaa2660",
        "outputId": "ece5de7b-3528-48c2-9b22-da4eb6566963",
        "colab": {
          "base_uri": "https://localhost:8080/"
        }
      },
      "outputs": [
        {
          "output_type": "execute_result",
          "data": {
            "text/plain": [
              "9.335"
            ]
          },
          "metadata": {},
          "execution_count": 12
        }
      ],
      "source": [
        "evaluate_policy(env_1d, always_right_policy)"
      ]
    },
    {
      "cell_type": "markdown",
      "id": "0d5a0543-ec5c-41c1-a821-0c908b8b5488",
      "metadata": {
        "id": "0d5a0543-ec5c-41c1-a821-0c908b8b5488"
      },
      "source": [
        "### Visualization"
      ]
    },
    {
      "cell_type": "code",
      "execution_count": 13,
      "id": "6aa462a4-0b39-49f3-a671-9127841be765",
      "metadata": {
        "id": "6aa462a4-0b39-49f3-a671-9127841be765",
        "tags": []
      },
      "outputs": [],
      "source": [
        "# For visualization\n",
        "from gym.wrappers.monitoring import video_recorder\n",
        "from IPython.display import HTML\n",
        "from IPython import display\n",
        "import glob\n",
        "import base64, io, os\n",
        "\n",
        "os.environ['SDL_VIDEODRIVER']='dummy'"
      ]
    },
    {
      "cell_type": "code",
      "execution_count": 14,
      "id": "3aea3f97-6e6c-4b84-b6a4-29d376313b8e",
      "metadata": {
        "id": "3aea3f97-6e6c-4b84-b6a4-29d376313b8e",
        "tags": []
      },
      "outputs": [],
      "source": [
        "os.makedirs(\"video\", exist_ok=True)\n",
        "\n",
        "def show_video(env_name):\n",
        "    mp4list = glob.glob('video/*.mp4')\n",
        "    if len(mp4list) > 0:\n",
        "        mp4 = 'video/{}.mp4'.format(env_name)\n",
        "        video = io.open(mp4, 'r+b').read()\n",
        "        encoded = base64.b64encode(video)\n",
        "        display.display(HTML(data='''<video alt=\"test\" autoplay\n",
        "                loop controls style=\"height: 400px;\">\n",
        "                <source src=\"data:video/mp4;base64,{0}\" type=\"video/mp4\" />\n",
        "             </video>'''.format(encoded.decode('ascii'))))\n",
        "    else:\n",
        "        print(\"Could not find video\")\n",
        "\n",
        "def show_video_of_model(env_name, env, policy, max_steps=10000):\n",
        "    vid = video_recorder.VideoRecorder(env, path=\"video/{}.mp4\".format(env_name))\n",
        "    state, _ = env.reset()\n",
        "    done = False\n",
        "    for t in range(max_steps):\n",
        "        vid.capture_frame()\n",
        "        action = policy(state)\n",
        "        next_state, reward, terminated, truncated, info = env.step(action)\n",
        "        done = terminated or truncated\n",
        "        print(f\"state: {state}, action: {action}\",next_state, reward, done)\n",
        "        state = next_state\n",
        "        if done:\n",
        "            break\n",
        "    vid.close()\n",
        "    env.close()"
      ]
    },
    {
      "cell_type": "code",
      "execution_count": 15,
      "id": "b19557b0-9fb4-4d0f-af14-6a90dda1245e",
      "metadata": {
        "colab": {
          "base_uri": "https://localhost:8080/"
        },
        "id": "b19557b0-9fb4-4d0f-af14-6a90dda1245e",
        "outputId": "97f0d4c4-fb97-4129-9d0f-5bcbc6e3cfe1",
        "tags": []
      },
      "outputs": [
        {
          "output_type": "stream",
          "name": "stdout",
          "text": [
            "state: [ 0.04277861 -0.01464597 -0.02430579 -0.0387673 ], action: 0 [ 0.04248569 -0.2094111  -0.02508114  0.2461489 ] 1.0 False\n",
            "state: [ 0.04248569 -0.2094111  -0.02508114  0.2461489 ], action: 0 [ 0.03829747 -0.404166   -0.02015816  0.5308163 ] 1.0 False\n",
            "state: [ 0.03829747 -0.404166   -0.02015816  0.5308163 ], action: 0 [ 0.03021415 -0.5989987  -0.00954183  0.8170799 ] 1.0 False\n",
            "state: [ 0.03021415 -0.5989987  -0.00954183  0.8170799 ], action: 0 [ 0.01823417 -0.7939887   0.00679977  1.1067463 ] 1.0 False\n",
            "state: [ 0.01823417 -0.7939887   0.00679977  1.1067463 ], action: 0 [ 0.0023544  -0.9891994   0.02893469  1.4015547 ] 1.0 False\n",
            "state: [ 0.0023544  -0.9891994   0.02893469  1.4015547 ], action: 0 [-0.01742959 -1.1846687   0.05696579  1.7031415 ] 1.0 False\n",
            "state: [-0.01742959 -1.1846687   0.05696579  1.7031415 ], action: 0 [-0.04112297 -1.3803983   0.09102862  2.0129986 ] 1.0 False\n",
            "state: [-0.04112297 -1.3803983   0.09102862  2.0129986 ], action: 0 [-0.06873093 -1.5763407   0.13128859  2.3324208 ] 1.0 False\n",
            "state: [-0.06873093 -1.5763407   0.13128859  2.3324208 ], action: 0 [-0.10025775 -1.7723833   0.177937    2.662442  ] 1.0 False\n",
            "state: [-0.10025775 -1.7723833   0.177937    2.662442  ], action: 0 [-0.13570541 -1.9683304   0.23118584  3.0037596 ] 1.0 True\n",
            "Moviepy - Building video video/CartPole-v1.mp4.\n",
            "Moviepy - Writing video video/CartPole-v1.mp4\n",
            "\n"
          ]
        },
        {
          "output_type": "stream",
          "name": "stderr",
          "text": [
            "                                                           "
          ]
        },
        {
          "output_type": "stream",
          "name": "stdout",
          "text": [
            "Moviepy - Done !\n",
            "Moviepy - video ready video/CartPole-v1.mp4\n"
          ]
        },
        {
          "output_type": "stream",
          "name": "stderr",
          "text": [
            "\r"
          ]
        }
      ],
      "source": [
        "show_video_of_model(\"CartPole-v1\", env_1d, always_left_policy)"
      ]
    },
    {
      "cell_type": "code",
      "execution_count": 16,
      "id": "2d149343-18ee-40f9-ad41-69ba99dc761b",
      "metadata": {
        "colab": {
          "base_uri": "https://localhost:8080/",
          "height": 421
        },
        "id": "2d149343-18ee-40f9-ad41-69ba99dc761b",
        "outputId": "fffeecc9-0056-45f7-9cba-33766dd1bdfa",
        "tags": []
      },
      "outputs": [
        {
          "output_type": "display_data",
          "data": {
            "text/plain": [
              "<IPython.core.display.HTML object>"
            ],
            "text/html": [
              "<video alt=\"test\" autoplay\n",
              "                loop controls style=\"height: 400px;\">\n",
              "                <source src=\"data:video/mp4;base64,AAAAIGZ0eXBpc29tAAACAGlzb21pc28yYXZjMW1wNDEAAAAIZnJlZQAAB89tZGF0AAACrgYF//+q3EXpvebZSLeWLNgg2SPu73gyNjQgLSBjb3JlIDE1OSByMjk5MSAxNzcxYjU1IC0gSC4yNjQvTVBFRy00IEFWQyBjb2RlYyAtIENvcHlsZWZ0IDIwMDMtMjAxOSAtIGh0dHA6Ly93d3cudmlkZW9sYW4ub3JnL3gyNjQuaHRtbCAtIG9wdGlvbnM6IGNhYmFjPTEgcmVmPTMgZGVibG9jaz0xOjA6MCBhbmFseXNlPTB4MzoweDExMyBtZT1oZXggc3VibWU9NyBwc3k9MSBwc3lfcmQ9MS4wMDowLjAwIG1peGVkX3JlZj0xIG1lX3JhbmdlPTE2IGNocm9tYV9tZT0xIHRyZWxsaXM9MSA4eDhkY3Q9MSBjcW09MCBkZWFkem9uZT0yMSwxMSBmYXN0X3Bza2lwPTEgY2hyb21hX3FwX29mZnNldD0tMiB0aHJlYWRzPTMgbG9va2FoZWFkX3RocmVhZHM9MSBzbGljZWRfdGhyZWFkcz0wIG5yPTAgZGVjaW1hdGU9MSBpbnRlcmxhY2VkPTAgYmx1cmF5X2NvbXBhdD0wIGNvbnN0cmFpbmVkX2ludHJhPTAgYmZyYW1lcz0zIGJfcHlyYW1pZD0yIGJfYWRhcHQ9MSBiX2JpYXM9MCBkaXJlY3Q9MSB3ZWlnaHRiPTEgb3Blbl9nb3A9MCB3ZWlnaHRwPTIga2V5aW50PTI1MCBrZXlpbnRfbWluPTI1IHNjZW5lY3V0PTQwIGludHJhX3JlZnJlc2g9MCByY19sb29rYWhlYWQ9NDAgcmM9Y3JmIG1idHJlZT0xIGNyZj0yMy4wIHFjb21wPTAuNjAgcXBtaW49MCBxcG1heD02OSBxcHN0ZXA9NCBpcF9yYXRpbz0xLjQwIGFxPTE6MS4wMACAAAABz2WIhAAv//72rvzLK0cLlS4dWXuzUfLoSXL9iDB9aAAAAwAAAwAAJuKiZ0WFMeJsgAAALmAIWElDyDzETFWKgSxDPavgnEaAn05f66dUY9WghoO7A3rD5OX8COh/BRvdbRre7LzdhQJmCDfdfw39/hkw6BvUCru8Ku5woty4s1qxt1/ij1SSWZKt+YNSedwd5W7n3/07qau1HQS+2fTNw5i8bt7Ktu+0+O+usvTCg6sgJtTn/eDnFtqEdaqWIufkT3Ev3A05dI3IlhxNbC+joAM9xSqP0ZOpzokkJWeFk1NMnyGkQmygBwhrgediCaTr63CsH9RFRz1A1bi0yal3fzJXtKklWaMrjl72BQcowEeLFpegAUeYDXEXPIGfLqJMufSqn8DTPPxTYOw5A8TFUCFtZKekVnzR/8mOIUl0cHSwmO9jh/iVPatGqBQWSofld27hYdWxTmrnC6E2gnvsqzWocXfyAL5uULYNaOhIUurkd0TbezWiZDMW0L9TsvIOWFqFUDT8MMIn7HFMouwAJZxEs6TLabe7+ONTAVNncvtyXlx/n437eE7kym1Nda5bDlUreTGUzfiJ5lsBu/axA/YF4Xqx2mgAAAMAAAMAB5UAAACAQZokbEK//jhAAAENG458EiyAChytFmJpBMvBcE8+0CPerj3R1LKAbANHPKphOJtRYc0q5Sc2GpZF/EzUJlHDc87NgZV+4VeN8dx4Mhfnez0akiJTZFGIPfg/EpOMm2M87pNI3wNBS1VEE9h3eAHlY2sZL6zJHhG9kHl3PPYdE8AAAAAyQZ5CeIR/AAAWvkuwQnSxy4OGzrIBML46OzE8gXyYXHDnda9TkrNCl2nPZdju4fMAzZkAAAAgAZ5hdEf/AAAFHPf2hehyWjt2hV61p0Qhb1l42q2JmzAAAAAxAZ5jakf/AAAjvwQnC0f1rqDsKIE0/JmOEjTIWODs2agyNb02Y7c39hbXJ6+bttiWlQAAAJNBmmZJqEFomUwU8K/+OEAAAQz63fivbTvyQAkZYoq5U/5z79zSUKxAMv+6Q1yjMkgni5uLm6wdR87w4hxM+MHoJ93TyP3Vl/MOSmS+U1Lt4OEcSYRMvdH1iyQ+NG1mOuqh21hhB7VMIO3R8eJr90T2EJwCSH1EunsIepV8Iang3W11tLaC5fLjLUmlgUp0DnzgzhkAAAAzAZ6Fakf/AAAjvwQmjQIjoA6KXtRCFP1NhdOUWn6K8kINMAg6aq1WTkF1DoEOwKvn+F9tAAAAs0GaiUnhClJlMCP//IQAAA/YWv/gidvIsIAIoxyD9zyP/JR1vzZLCZr7C8zCBXzQ8zu745i9BH2r91UuqUEKmFbDN9bTFH1nGDPSTLx+3FD+eOoh/lBcIlDenTZnHyqpLFz188JRC0zUc963ACIvNMDCcWw9a5/BpmJkWx+/u9bdT3r0sqttOoKR6iASvD6R156+SY/rke/4oaiwRLg0fKxZj493U7lZbnfpzgrf8KKRaVJFAAAAV0Gep0U0TCP/AAAWu7D/URv+yCiS5fDWFi0SeXAdLq4NLXSsNcKM8+zAnzd6opv3wxGZry9DUba1VI7WV67fPG/eDFdngBAmT/ow6oZpbOB6Tv+/Af2BbAAAAEsBnshqR/8AACO9L9dRuEfUSkTOG7juIVQNxBIinL6+7EKli2nxG3w4ZrqqzJFzuHvzZ4kZAAn80w9KuBpUbCZco1tr0se/y7Le7UgAAAODbW9vdgAAAGxtdmhkAAAAAAAAAAAAAAAAAAAD6AAAAMgAAQAAAQAAAAAAAAAAAAAAAAEAAAAAAAAAAAAAAAAAAAABAAAAAAAAAAAAAAAAAABAAAAAAAAAAAAAAAAAAAAAAAAAAAAAAAAAAAAAAAAAAgAAAq10cmFrAAAAXHRraGQAAAADAAAAAAAAAAAAAAABAAAAAAAAAMgAAAAAAAAAAAAAAAAAAAAAAAEAAAAAAAAAAAAAAAAAAAABAAAAAAAAAAAAAAAAAABAAAAAAlgAAAGQAAAAAAAkZWR0cwAAABxlbHN0AAAAAAAAAAEAAADIAAACAAABAAAAAAIlbWRpYQAAACBtZGhkAAAAAAAAAAAAAAAAAAAyAAAACgBVxAAAAAAALWhkbHIAAAAAAAAAAHZpZGUAAAAAAAAAAAAAAABWaWRlb0hhbmRsZXIAAAAB0G1pbmYAAAAUdm1oZAAAAAEAAAAAAAAAAAAAACRkaW5mAAAAHGRyZWYAAAAAAAAAAQAAAAx1cmwgAAAAAQAAAZBzdGJsAAAAmHN0c2QAAAAAAAAAAQAAAIhhdmMxAAAAAAAAAAEAAAAAAAAAAAAAAAAAAAAAAlgBkABIAAAASAAAAAAAAAABAAAAAAAAAAAAAAAAAAAAAAAAAAAAAAAAAAAAAAAAAAAAGP//AAAAMmF2Y0MBZAAf/+EAGWdkAB+s2UCYM+XhAAADAAEAAAMAZA8YMZYBAAZo6+PLIsAAAAAYc3R0cwAAAAAAAAABAAAACgAAAQAAAAAUc3RzcwAAAAAAAAABAAAAAQAAAFhjdHRzAAAAAAAAAAkAAAABAAACAAAAAAEAAAUAAAAAAQAAAgAAAAABAAAAAAAAAAEAAAEAAAAAAQAAAwAAAAABAAABAAAAAAEAAAQAAAAAAgAAAQAAAAAcc3RzYwAAAAAAAAABAAAAAQAAAAoAAAABAAAAPHN0c3oAAAAAAAAAAAAAAAoAAASFAAAAhAAAADYAAAAkAAAANQAAAJcAAAA3AAAAtwAAAFsAAABPAAAAFHN0Y28AAAAAAAAAAQAAADAAAABidWR0YQAAAFptZXRhAAAAAAAAACFoZGxyAAAAAAAAAABtZGlyYXBwbAAAAAAAAAAAAAAAAC1pbHN0AAAAJal0b28AAAAdZGF0YQAAAAEAAAAATGF2ZjU4LjI5LjEwMA==\" type=\"video/mp4\" />\n",
              "             </video>"
            ]
          },
          "metadata": {}
        }
      ],
      "source": [
        "show_video(\"CartPole-v1\")"
      ]
    },
    {
      "cell_type": "markdown",
      "id": "d11d6e57-b055-45e5-83c9-99ac3d39cde4",
      "metadata": {
        "id": "d11d6e57-b055-45e5-83c9-99ac3d39cde4"
      },
      "source": [
        "## Frozen Lake"
      ]
    },
    {
      "cell_type": "markdown",
      "id": "6be61d3f-a188-4377-b944-a9b4ee06a3d1",
      "metadata": {
        "id": "6be61d3f-a188-4377-b944-a9b4ee06a3d1"
      },
      "source": [
        "Frozen lake is a toy text environment involves crossing a frozen lake from start to goal without falling into any holes by walking over the frozen lake. <br>\n",
        "\n",
        "We can also set the lake to be slippery so that the agent does not always move in the intended direction. \\but here, we will only look at the non-slippery case. But you are welcome to try the slippery one.<br>\n",
        "\n",
        "You can read more about the environment [here](https://gymnasium.farama.org/environments/toy_text/frozen_lake/).\n",
        "\n",
        "![Frozen Lake](https://gymnasium.farama.org/_images/frozen_lake.gif)\n"
      ]
    },
    {
      "cell_type": "markdown",
      "id": "1221d41e-7952-431f-b0b5-54a2f05b3bef",
      "metadata": {
        "id": "1221d41e-7952-431f-b0b5-54a2f05b3bef"
      },
      "source": [
        "|   |   |\n",
        "|---|---|\n",
        "| Action Space | Discrete(4) |\n",
        "| Observation Space | Discrete(16) |\n",
        "| Import | `gym.make(\"FrozenLake-v1\")` |\n",
        "\n",
        "\n",
        "Frozen lake involves crossing a frozen lake from Start(S) to Goal(G) without falling into any Holes(H)\n",
        "by walking over the Frozen(F) lake.\n",
        "The agent may not always move in the intended direction due to the slippery nature of the frozen lake.\n",
        "\n",
        "\n",
        "### Action Space\n",
        "The agent takes a 1-element vector for actions.\n",
        "The action space is `(dir)`, where `dir` decides direction to move in which can be:\n",
        "\n",
        "- 0: LEFT\n",
        "- 1: DOWN\n",
        "- 2: RIGHT\n",
        "- 3: UP\n",
        "\n",
        "### Observation Space\n",
        "The observation is a value representing the agent's current position as\n",
        "current_row * nrows + current_col (where both the row and col start at 0).\n",
        "For example, the goal position in the 4x4 map can be calculated as follows: 3 * 4 + 3 = 15.\n",
        "The number of possible observations is dependent on the size of the map.\n",
        "For example, the 4x4 map has 16 possible observations.\n",
        "\n",
        "### Rewards\n",
        "\n",
        "Reward schedule:\n",
        "- Reach goal(G): +1\n",
        "- Reach hole(H): 0\n",
        "- Reach frozen(F): 0\n",
        "\n",
        "### Arguments\n",
        "\n",
        "```\n",
        "gym.make('FrozenLake-v1', desc=None, map_name=\"4x4\", is_slippery=True)\n",
        "```\n",
        "\n",
        "`desc`: Used to specify custom map for frozen lake. For example,\n",
        "\n",
        "    desc=[\"SFFF\", \"FHFH\", \"FFFH\", \"HFFG\"].\n",
        "\n",
        "    A random generated map can be specified by calling the function `generate_random_map`. For example,\n",
        "\n",
        "    ```\n",
        "    from gym.envs.toy_text.frozen_lake import generate_random_map\n",
        "\n",
        "    gym.make('FrozenLake-v1', desc=generate_random_map(size=8))\n",
        "    ```\n",
        "\n",
        "`map_name`: ID to use any of the preloaded maps.\n",
        "\n",
        "    \"4x4\":[\n",
        "        \"SFFF\",\n",
        "        \"FHFH\",\n",
        "        \"FFFH\",\n",
        "        \"HFFG\"\n",
        "        ]\n",
        "\n",
        "    \"8x8\": [\n",
        "        \"SFFFFFFF\",\n",
        "        \"FFFFFFFF\",\n",
        "        \"FFFHFFFF\",\n",
        "        \"FFFFFHFF\",\n",
        "        \"FFFHFFFF\",\n",
        "        \"FHHFFFHF\",\n",
        "        \"FHFFHFHF\",\n",
        "        \"FFFHFFFG\",\n",
        "    ]\n",
        "\n",
        "`is_slippery`: True/False. If True will move in intended direction with\n",
        "probability of 1/3 else will move in either perpendicular direction with\n",
        "equal probability of 1/3 in both directions.\n",
        "\n",
        "    For example, if action is left and is_slippery is True, then:\n",
        "    - P(move left)=1/3\n",
        "    - P(move up)=1/3\n",
        "    - P(move down)=1/3\n"
      ]
    },
    {
      "cell_type": "code",
      "execution_count": 17,
      "id": "1039715f-b1e4-4e9f-b90e-1ed8207a2ef5",
      "metadata": {
        "tags": [],
        "id": "1039715f-b1e4-4e9f-b90e-1ed8207a2ef5"
      },
      "outputs": [],
      "source": [
        "env_2d = gym.make(\"FrozenLake-v1\", is_slippery=False, render_mode=\"rgb_array\")"
      ]
    },
    {
      "cell_type": "code",
      "execution_count": 18,
      "id": "24ed0f69-99db-46ac-8690-b69867c3ef6a",
      "metadata": {
        "tags": [],
        "id": "24ed0f69-99db-46ac-8690-b69867c3ef6a",
        "outputId": "6b6207b4-079c-45ab-d8c4-7f42e4a7d5df",
        "colab": {
          "base_uri": "https://localhost:8080/"
        }
      },
      "outputs": [
        {
          "output_type": "execute_result",
          "data": {
            "text/plain": [
              "Discrete(16)"
            ]
          },
          "metadata": {},
          "execution_count": 18
        }
      ],
      "source": [
        "env_2d.observation_space"
      ]
    },
    {
      "cell_type": "code",
      "execution_count": 19,
      "id": "742362b9-0a62-4b2a-8547-ca5c849afd7b",
      "metadata": {
        "tags": [],
        "id": "742362b9-0a62-4b2a-8547-ca5c849afd7b",
        "outputId": "967d04ba-94f2-479c-bae8-18bf8fd592e0",
        "colab": {
          "base_uri": "https://localhost:8080/"
        }
      },
      "outputs": [
        {
          "output_type": "execute_result",
          "data": {
            "text/plain": [
              "Discrete(4)"
            ]
          },
          "metadata": {},
          "execution_count": 19
        }
      ],
      "source": [
        "env_2d.action_space"
      ]
    },
    {
      "cell_type": "code",
      "execution_count": 20,
      "id": "159d9ffa-ba01-4deb-8fd9-8a47dcb6f21b",
      "metadata": {
        "tags": [],
        "id": "159d9ffa-ba01-4deb-8fd9-8a47dcb6f21b"
      },
      "outputs": [],
      "source": [
        "# Define the \"Always Left\" policy\n",
        "def always_left_policy(observation):\n",
        "    return 0  # Action: Move left\n",
        "\n",
        "# Define the \"Always Right\" policy\n",
        "def always_right_policy(observation):\n",
        "    return 2  # Action: Move right\n",
        "\n",
        "def random_policy(observation):\n",
        "    return random.choice([0, 1, 2, 3])"
      ]
    },
    {
      "cell_type": "code",
      "execution_count": 21,
      "id": "e37a8169-b7a9-4e72-8a05-d49e6a796630",
      "metadata": {
        "tags": [],
        "id": "e37a8169-b7a9-4e72-8a05-d49e6a796630",
        "outputId": "c64b2f46-2cb2-4080-dc93-380128f48b60",
        "colab": {
          "base_uri": "https://localhost:8080/"
        }
      },
      "outputs": [
        {
          "output_type": "execute_result",
          "data": {
            "text/plain": [
              "0.0"
            ]
          },
          "metadata": {},
          "execution_count": 21
        }
      ],
      "source": [
        "evaluate_policy(env_2d, always_left_policy) # only left"
      ]
    },
    {
      "cell_type": "code",
      "execution_count": 22,
      "id": "74c95ee2-5a97-4b59-b8ca-2757f3107b6b",
      "metadata": {
        "tags": [],
        "id": "74c95ee2-5a97-4b59-b8ca-2757f3107b6b",
        "outputId": "6a991b41-2996-4c04-8ce0-e25db6f3a40e",
        "colab": {
          "base_uri": "https://localhost:8080/"
        }
      },
      "outputs": [
        {
          "output_type": "execute_result",
          "data": {
            "text/plain": [
              "0.0"
            ]
          },
          "metadata": {},
          "execution_count": 22
        }
      ],
      "source": [
        "evaluate_policy(env_2d, always_right_policy) # only right"
      ]
    },
    {
      "cell_type": "code",
      "execution_count": 23,
      "id": "3f637ef7-7040-484a-8e4b-b405dcbd4881",
      "metadata": {
        "tags": [],
        "id": "3f637ef7-7040-484a-8e4b-b405dcbd4881",
        "outputId": "2de5e730-7f6d-437f-956e-689ec1f79c73",
        "colab": {
          "base_uri": "https://localhost:8080/"
        }
      },
      "outputs": [
        {
          "output_type": "execute_result",
          "data": {
            "text/plain": [
              "0.018"
            ]
          },
          "metadata": {},
          "execution_count": 23
        }
      ],
      "source": [
        "evaluate_policy(env_2d, random_policy) # random"
      ]
    },
    {
      "cell_type": "markdown",
      "id": "0984621a-97e6-477e-9c88-9b10c9795a3c",
      "metadata": {
        "id": "0984621a-97e6-477e-9c88-9b10c9795a3c"
      },
      "source": [
        "## Viz"
      ]
    },
    {
      "cell_type": "code",
      "execution_count": 27,
      "id": "885a33f0-8b1f-44d7-855b-ecf335ce03ae",
      "metadata": {
        "colab": {
          "base_uri": "https://localhost:8080/"
        },
        "id": "885a33f0-8b1f-44d7-855b-ecf335ce03ae",
        "outputId": "506083ed-7ce7-49a1-e350-62dda9887908",
        "tags": []
      },
      "outputs": [
        {
          "output_type": "stream",
          "name": "stdout",
          "text": [
            "state: 0, action: 3 0 0.0 False\n",
            "state: 0, action: 1 4 0.0 False\n",
            "state: 4, action: 3 0 0.0 False\n",
            "state: 0, action: 3 0 0.0 False\n",
            "state: 0, action: 0 0 0.0 False\n",
            "state: 0, action: 2 1 0.0 False\n",
            "state: 1, action: 2 2 0.0 False\n",
            "state: 2, action: 2 3 0.0 False\n",
            "state: 3, action: 2 3 0.0 False\n",
            "state: 3, action: 2 3 0.0 False\n",
            "state: 3, action: 3 3 0.0 False\n",
            "state: 3, action: 1 7 0.0 True\n",
            "Moviepy - Building video video/lake.mp4.\n",
            "Moviepy - Writing video video/lake.mp4\n",
            "\n"
          ]
        },
        {
          "output_type": "stream",
          "name": "stderr",
          "text": [
            "                                                   "
          ]
        },
        {
          "output_type": "stream",
          "name": "stdout",
          "text": [
            "Moviepy - Done !\n",
            "Moviepy - video ready video/lake.mp4\n"
          ]
        },
        {
          "output_type": "stream",
          "name": "stderr",
          "text": [
            "\r"
          ]
        }
      ],
      "source": [
        "show_video_of_model(\"lake\", env_2d, random_policy, max_steps=10000)"
      ]
    },
    {
      "cell_type": "code",
      "execution_count": 28,
      "id": "def9e124-e63a-4c2f-b4cb-efa77a919f33",
      "metadata": {
        "colab": {
          "base_uri": "https://localhost:8080/",
          "height": 421
        },
        "id": "def9e124-e63a-4c2f-b4cb-efa77a919f33",
        "outputId": "a708b4a2-3992-4a3a-bf24-e7835bcd25b0",
        "tags": []
      },
      "outputs": [
        {
          "output_type": "display_data",
          "data": {
            "text/plain": [
              "<IPython.core.display.HTML object>"
            ],
            "text/html": [
              "<video alt=\"test\" autoplay\n",
              "                loop controls style=\"height: 400px;\">\n",
              "                <source src=\"data:video/mp4;base64,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\" type=\"video/mp4\" />\n",
              "             </video>"
            ]
          },
          "metadata": {}
        }
      ],
      "source": [
        "show_video(\"lake\")"
      ]
    },
    {
      "cell_type": "markdown",
      "source": [
        "# New Policies"
      ],
      "metadata": {
        "id": "2FWllQ_XzMz1"
      },
      "id": "2FWllQ_XzMz1"
    },
    {
      "cell_type": "code",
      "source": [
        "env_2d.desc.flatten()"
      ],
      "metadata": {
        "colab": {
          "base_uri": "https://localhost:8080/"
        },
        "id": "TsZCpFRe10CK",
        "outputId": "44835c30-8c5d-4f43-8c7b-b969698078ad"
      },
      "id": "TsZCpFRe10CK",
      "execution_count": 52,
      "outputs": [
        {
          "output_type": "execute_result",
          "data": {
            "text/plain": [
              "array([b'S', b'F', b'F', b'F', b'F', b'H', b'F', b'H', b'F', b'F', b'F',\n",
              "       b'H', b'H', b'F', b'F', b'G'], dtype='|S1')"
            ]
          },
          "metadata": {},
          "execution_count": 52
        }
      ]
    }
  ],
  "metadata": {
    "kernelspec": {
      "display_name": "Python 3 (ipykernel)",
      "language": "python",
      "name": "python3"
    },
    "language_info": {
      "codemirror_mode": {
        "name": "ipython",
        "version": 3
      },
      "file_extension": ".py",
      "mimetype": "text/x-python",
      "name": "python",
      "nbconvert_exporter": "python",
      "pygments_lexer": "ipython3",
      "version": "3.11.4"
    },
    "colab": {
      "provenance": [],
      "include_colab_link": true
    }
  },
  "nbformat": 4,
  "nbformat_minor": 5
}