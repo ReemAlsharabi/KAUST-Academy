{
  "cells": [
    {
      "cell_type": "markdown",
      "metadata": {
        "id": "view-in-github",
        "colab_type": "text"
      },
      "source": [
        "<a href=\"https://colab.research.google.com/github/ReemAlsharabi/KAUST-Academy/blob/main/summer-program/week1/VAE/VariationalAutoEncoders.ipynb\" target=\"_parent\"><img src=\"https://colab.research.google.com/assets/colab-badge.svg\" alt=\"Open In Colab\"/></a>"
      ]
    },
    {
      "cell_type": "markdown",
      "metadata": {
        "id": "Gm3hxkkqnu_R"
      },
      "source": [
        "# Image Generation using Variational AutoEncoders"
      ]
    },
    {
      "cell_type": "markdown",
      "metadata": {
        "id": "fvASWvJK4ty-"
      },
      "source": [
        "The goal of Autoencoders was to generate latent vectors which are easily decodable back to the original image. But this can cause the latent space to become disjoint and non-continous.\n",
        "\n",
        "Variational Autoencoders were introduced to remedy this. Variational Autoencoders are trained to learn the probability distribution that models the input data. In varional autoencoders, the inputs are mapped to a probability distribuion over latent vectors. Typically, this probability distribution is set to standard normal distribution. So, there are two targets in VAEs: one to minimize the reconstruction loss and two to minimize the KL divergence between the Probilitistic encoder and standard normal distribution.\n"
      ]
    },
    {
      "cell_type": "markdown",
      "metadata": {
        "id": "rZW2SP07325K"
      },
      "source": [
        "![\"Variational Autoencoder Architecture\"](https://blog.bayeslabs.co/assets/img/vae-gaussian.png)\n",
        "\n",
        "<p align = \"center\">\n",
        "Fig.1 - Variational Autoencoder Architecture\n",
        "(<a href=https://blog.bayeslabs.co/2019/06/04/All-you-need-to-know-about-Vae\">\n",
        "source\n",
        "</a>)\n",
        "</p>"
      ]
    },
    {
      "cell_type": "code",
      "execution_count": 1,
      "metadata": {
        "id": "53pepfXZjw9B"
      },
      "outputs": [],
      "source": [
        "import torch\n",
        "import torch.nn as nn\n",
        "from torch.utils.data import Dataset, DataLoader\n",
        "from torchvision import datasets\n",
        "from torchvision.transforms import ToTensor\n",
        "from torchsummary import summary\n",
        "import matplotlib.pyplot as plt\n",
        "from mpl_toolkits.axes_grid1 import ImageGrid\n",
        "from tqdm import tqdm\n",
        "import numpy as np"
      ]
    },
    {
      "cell_type": "code",
      "execution_count": 2,
      "metadata": {
        "id": "0fJCUHHLt8H8"
      },
      "outputs": [],
      "source": [
        "EPOCHS = 20\n",
        "LEARNING_RATE = 1e-4\n",
        "BATCH_SIZE = 64\n",
        "Z = 32\n",
        "KLD_WEIGHT = 0.0012"
      ]
    },
    {
      "cell_type": "code",
      "execution_count": 3,
      "metadata": {
        "id": "BodA8N3tuNlE",
        "colab": {
          "base_uri": "https://localhost:8080/"
        },
        "outputId": "15f8835b-8523-4e4c-94c0-9d817e7cce0f"
      },
      "outputs": [
        {
          "output_type": "stream",
          "name": "stdout",
          "text": [
            "Downloading http://yann.lecun.com/exdb/mnist/train-images-idx3-ubyte.gz\n",
            "Downloading http://yann.lecun.com/exdb/mnist/train-images-idx3-ubyte.gz to minist_data/MNIST/raw/train-images-idx3-ubyte.gz\n"
          ]
        },
        {
          "output_type": "stream",
          "name": "stderr",
          "text": [
            "100%|██████████| 9912422/9912422 [00:00<00:00, 339473926.43it/s]"
          ]
        },
        {
          "output_type": "stream",
          "name": "stdout",
          "text": [
            "Extracting minist_data/MNIST/raw/train-images-idx3-ubyte.gz to minist_data/MNIST/raw\n"
          ]
        },
        {
          "output_type": "stream",
          "name": "stderr",
          "text": [
            "\n"
          ]
        },
        {
          "output_type": "stream",
          "name": "stdout",
          "text": [
            "\n",
            "Downloading http://yann.lecun.com/exdb/mnist/train-labels-idx1-ubyte.gz\n",
            "Downloading http://yann.lecun.com/exdb/mnist/train-labels-idx1-ubyte.gz to minist_data/MNIST/raw/train-labels-idx1-ubyte.gz\n"
          ]
        },
        {
          "output_type": "stream",
          "name": "stderr",
          "text": [
            "100%|██████████| 28881/28881 [00:00<00:00, 57987407.29it/s]\n"
          ]
        },
        {
          "output_type": "stream",
          "name": "stdout",
          "text": [
            "Extracting minist_data/MNIST/raw/train-labels-idx1-ubyte.gz to minist_data/MNIST/raw\n",
            "\n",
            "Downloading http://yann.lecun.com/exdb/mnist/t10k-images-idx3-ubyte.gz\n",
            "Downloading http://yann.lecun.com/exdb/mnist/t10k-images-idx3-ubyte.gz to minist_data/MNIST/raw/t10k-images-idx3-ubyte.gz\n"
          ]
        },
        {
          "output_type": "stream",
          "name": "stderr",
          "text": [
            "100%|██████████| 1648877/1648877 [00:00<00:00, 163527177.64it/s]"
          ]
        },
        {
          "output_type": "stream",
          "name": "stdout",
          "text": [
            "Extracting minist_data/MNIST/raw/t10k-images-idx3-ubyte.gz to minist_data/MNIST/raw\n",
            "\n",
            "Downloading http://yann.lecun.com/exdb/mnist/t10k-labels-idx1-ubyte.gz\n",
            "Downloading http://yann.lecun.com/exdb/mnist/t10k-labels-idx1-ubyte.gz to minist_data/MNIST/raw/t10k-labels-idx1-ubyte.gz\n"
          ]
        },
        {
          "output_type": "stream",
          "name": "stderr",
          "text": [
            "\n",
            "100%|██████████| 4542/4542 [00:00<00:00, 21190799.52it/s]\n"
          ]
        },
        {
          "output_type": "stream",
          "name": "stdout",
          "text": [
            "Extracting minist_data/MNIST/raw/t10k-labels-idx1-ubyte.gz to minist_data/MNIST/raw\n",
            "\n"
          ]
        }
      ],
      "source": [
        "# We will be using the mnist digit data.\n",
        "mnist_dataset = datasets.MNIST(root=\"minist_data/\", download=True, transform=ToTensor())"
      ]
    },
    {
      "cell_type": "code",
      "execution_count": 4,
      "metadata": {
        "id": "CkSc77N5uPXA"
      },
      "outputs": [],
      "source": [
        "# Initializing pytorch dataloader\n",
        "train_dataloader = DataLoader(mnist_dataset, batch_size=BATCH_SIZE, shuffle=True)"
      ]
    },
    {
      "cell_type": "code",
      "execution_count": 5,
      "metadata": {
        "colab": {
          "base_uri": "https://localhost:8080/",
          "height": 191
        },
        "id": "tBlw8en5uRow",
        "outputId": "85778d0d-7c89-4412-ce8f-c6da0998c8d4"
      },
      "outputs": [
        {
          "output_type": "display_data",
          "data": {
            "text/plain": [
              "<Figure size 1400x1400 with 7 Axes>"
            ],
            "image/png": "[encoded data removed]"
          },
          "metadata": {}
        }
      ],
      "source": [
        "# Visualizing some sample images\n",
        "figure = plt.figure(figsize=(14, 14))\n",
        "cols, rows = 7, 1\n",
        "for i in range(1, cols * rows + 1):\n",
        "    sample_idx = torch.randint(len(mnist_dataset), size=(1,)).item()\n",
        "    img, label = mnist_dataset[sample_idx]\n",
        "    figure.add_subplot(rows, cols, i)\n",
        "    plt.title(label)\n",
        "    plt.axis(\"off\")\n",
        "    plt.imshow(img.squeeze(), cmap=\"gray\")\n",
        "plt.show()"
      ]
    },
    {
      "cell_type": "code",
      "execution_count": 6,
      "metadata": {
        "colab": {
          "base_uri": "https://localhost:8080/",
          "height": 36
        },
        "id": "Uezgo6PwuTMB",
        "outputId": "7c62317b-6280-4a17-939f-8d2023ee4c76"
      },
      "outputs": [
        {
          "output_type": "execute_result",
          "data": {
            "text/plain": [
              "'cuda'"
            ],
            "application/vnd.google.colaboratory.intrinsic+json": {
              "type": "string"
            }
          },
          "metadata": {},
          "execution_count": 6
        }
      ],
      "source": [
        "device = \"cuda\" if torch.cuda.is_available() else \"cpu\"\n",
        "device"
      ]
    },
    {
      "cell_type": "markdown",
      "metadata": {
        "id": "9vejjknDqXBn"
      },
      "source": [
        "Here, we will define a model for a Variational Autoencoder. It is mostly similar to Autoencoders with a few differences. Instead of the encoder outputing a deterministic latent space representation like in autoencoders, the encoder will now output a mean and log variance vector. The latent space representation will then be sampled using them. We output log variance instead of just variance because the varaince always has to be postive.\n",
        "\n",
        "The docoder is same as in autoencoders.\n",
        "\n",
        "For sampling the latent space representation, we use a reparameterization trick so that it is possible to backpropagate. The basic idea is given below in the Fig 2.\n",
        "\n",
        "![\"Reparameteriztion Trick\"](https://blog.bayeslabs.co/assets/img/vae_part_1_1.png)\n",
        "\n",
        "<p align = \"center\">\n",
        "Fig.2 - Reparameteriztion Trick\n",
        "(<a href=https://blog.bayeslabs.co/2019/06/04/All-you-need-to-know-about-Vae\">\n",
        "source\n",
        "</a>)\n",
        "</p>\n",
        "\n"
      ]
    },
    {
      "cell_type": "code",
      "execution_count": 7,
      "metadata": {
        "colab": {
          "base_uri": "https://localhost:8080/"
        },
        "id": "eNCJkFQsuVST",
        "outputId": "95e6af85-b3be-4346-b2ed-dc347ed90d25"
      },
      "outputs": [
        {
          "output_type": "execute_result",
          "data": {
            "text/plain": [
              "VariationalAutoEncoder(\n",
              "  (encoder_top): Sequential(\n",
              "    (0): Conv2d(1, 16, kernel_size=(3, 3), stride=(2, 2), padding=(1, 1))\n",
              "    (1): BatchNorm2d(16, eps=1e-05, momentum=0.1, affine=True, track_running_stats=True)\n",
              "    (2): LeakyReLU(negative_slope=0.01)\n",
              "    (3): Conv2d(16, 32, kernel_size=(3, 3), stride=(2, 2), padding=(1, 1))\n",
              "    (4): BatchNorm2d(32, eps=1e-05, momentum=0.1, affine=True, track_running_stats=True)\n",
              "    (5): LeakyReLU(negative_slope=0.01)\n",
              "    (6): Conv2d(32, 64, kernel_size=(3, 3), stride=(2, 2), padding=(1, 1))\n",
              "    (7): BatchNorm2d(64, eps=1e-05, momentum=0.1, affine=True, track_running_stats=True)\n",
              "    (8): LeakyReLU(negative_slope=0.01)\n",
              "    (9): Flatten(start_dim=1, end_dim=-1)\n",
              "    (10): Linear(in_features=1024, out_features=128, bias=True)\n",
              "    (11): BatchNorm1d(128, eps=1e-05, momentum=0.1, affine=True, track_running_stats=True)\n",
              "    (12): LeakyReLU(negative_slope=0.01)\n",
              "  )\n",
              "  (mu_layer): Linear(in_features=128, out_features=32, bias=True)\n",
              "  (logvar_layer): Linear(in_features=128, out_features=32, bias=True)\n",
              "  (decoder): Sequential(\n",
              "    (0): Linear(in_features=32, out_features=128, bias=True)\n",
              "    (1): BatchNorm1d(128, eps=1e-05, momentum=0.1, affine=True, track_running_stats=True)\n",
              "    (2): LeakyReLU(negative_slope=0.01)\n",
              "    (3): Linear(in_features=128, out_features=1024, bias=True)\n",
              "    (4): BatchNorm1d(1024, eps=1e-05, momentum=0.1, affine=True, track_running_stats=True)\n",
              "    (5): LeakyReLU(negative_slope=0.01)\n",
              "    (6): Reshape()\n",
              "    (7): ConvTranspose2d(64, 32, kernel_size=(3, 3), stride=(2, 2), padding=(1, 1))\n",
              "    (8): BatchNorm2d(32, eps=1e-05, momentum=0.1, affine=True, track_running_stats=True)\n",
              "    (9): LeakyReLU(negative_slope=0.01)\n",
              "    (10): ConvTranspose2d(32, 16, kernel_size=(3, 3), stride=(2, 2), padding=(1, 1), output_padding=(1, 1))\n",
              "    (11): BatchNorm2d(16, eps=1e-05, momentum=0.1, affine=True, track_running_stats=True)\n",
              "    (12): LeakyReLU(negative_slope=0.01)\n",
              "    (13): ConvTranspose2d(16, 1, kernel_size=(3, 3), stride=(2, 2), padding=(1, 1), output_padding=(1, 1))\n",
              "    (14): Sigmoid()\n",
              "  )\n",
              ")"
            ]
          },
          "metadata": {},
          "execution_count": 7
        }
      ],
      "source": [
        "class Reshape(nn.Module):\n",
        "    \"\"\"A custom reshape layer.\"\"\"\n",
        "    def __init__(self, shape):\n",
        "        super(Reshape, self).__init__()\n",
        "        self.shape = shape\n",
        "\n",
        "    def forward(self, x):\n",
        "        return x.view(*self.shape)\n",
        "\n",
        "\n",
        "class VariationalAutoEncoder(nn.Module):\n",
        "    \"\"\"Variational Autoencoder model\"\"\"\n",
        "    def __init__(self, z):\n",
        "        super(VariationalAutoEncoder, self).__init__()\n",
        "        self.z = z\n",
        "        self.encoder_top = nn.Sequential(\n",
        "            nn.Conv2d(in_channels=1, out_channels=16, kernel_size=3, stride=2, padding=1),\n",
        "            nn.BatchNorm2d(16),\n",
        "            nn.LeakyReLU(),\n",
        "\n",
        "            nn.Conv2d(in_channels=16, out_channels=32, kernel_size=3, stride=2, padding=1),\n",
        "            nn.BatchNorm2d(32),\n",
        "            nn.LeakyReLU(),\n",
        "\n",
        "            nn.Conv2d(in_channels=32, out_channels=64, kernel_size=3, stride=2, padding=1),\n",
        "            nn.BatchNorm2d(64),\n",
        "            nn.LeakyReLU(),\n",
        "\n",
        "            nn.Flatten(1,-1),\n",
        "            nn.Linear(64 * 4 * 4, 128),\n",
        "            nn.BatchNorm1d(128),\n",
        "            nn.LeakyReLU(),\n",
        "        )\n",
        "\n",
        "        self.mu_layer =  nn.Linear(128, z)\n",
        "        self.logvar_layer =  nn.Linear(128, z)\n",
        "\n",
        "        self.decoder = nn.Sequential(\n",
        "            nn.Linear(z, 128),\n",
        "            nn.BatchNorm1d(128),\n",
        "            nn.LeakyReLU(),\n",
        "\n",
        "            nn.Linear(128, 64 * 4 * 4),\n",
        "            nn.BatchNorm1d(64 * 4 * 4),\n",
        "            nn.LeakyReLU(),\n",
        "\n",
        "            Reshape((-1,64,4,4)),\n",
        "\n",
        "            nn.ConvTranspose2d(in_channels=64, out_channels=32, kernel_size=3, stride=2, padding=1),\n",
        "            nn.BatchNorm2d(32),\n",
        "            nn.LeakyReLU(),\n",
        "\n",
        "            nn.ConvTranspose2d(in_channels=32, out_channels=16, kernel_size=3, stride=2, padding=1, output_padding=1),\n",
        "            nn.BatchNorm2d(16),\n",
        "            nn.LeakyReLU(),\n",
        "\n",
        "            nn.ConvTranspose2d(in_channels=16, out_channels=1, kernel_size=3, stride=2, padding=1, output_padding=1),\n",
        "            nn.Sigmoid(),\n",
        "        )\n",
        "\n",
        "    def encode(self, x):\n",
        "        x = self.encoder_top(x)\n",
        "        mu = self.mu_layer(x)\n",
        "        logvar = self.logvar_layer(x)\n",
        "        return mu, logvar\n",
        "\n",
        "    def reparameterize(self, mu, logvar):\n",
        "        # First we convert the log variance to standard deviation and then we sample through reparameterization\n",
        "        std = torch.exp(0.5 * logvar)\n",
        "        eps = torch.randn_like(std)\n",
        "        return mu + std*eps\n",
        "\n",
        "    def forward(self, x):\n",
        "        mu, logvar = self.encode(x)\n",
        "        x = self.reparameterize(mu, logvar)\n",
        "        x = self.decoder(x)\n",
        "        return x, mu, logvar\n",
        "\n",
        "\n",
        "model = VariationalAutoEncoder(z=Z)\n",
        "model.to(device)"
      ]
    },
    {
      "cell_type": "code",
      "execution_count": 8,
      "metadata": {
        "colab": {
          "base_uri": "https://localhost:8080/"
        },
        "id": "ON8h0u2OwgeB",
        "outputId": "1a924814-2b56-4027-f6d5-290aa9b2f45b"
      },
      "outputs": [
        {
          "output_type": "stream",
          "name": "stdout",
          "text": [
            "----------------------------------------------------------------\n",
            "        Layer (type)               Output Shape         Param #\n",
            "================================================================\n",
            "            Conv2d-1           [-1, 16, 14, 14]             160\n",
            "       BatchNorm2d-2           [-1, 16, 14, 14]              32\n",
            "         LeakyReLU-3           [-1, 16, 14, 14]               0\n",
            "            Conv2d-4             [-1, 32, 7, 7]           4,640\n",
            "       BatchNorm2d-5             [-1, 32, 7, 7]              64\n",
            "         LeakyReLU-6             [-1, 32, 7, 7]               0\n",
            "            Conv2d-7             [-1, 64, 4, 4]          18,496\n",
            "       BatchNorm2d-8             [-1, 64, 4, 4]             128\n",
            "         LeakyReLU-9             [-1, 64, 4, 4]               0\n",
            "          Flatten-10                 [-1, 1024]               0\n",
            "           Linear-11                  [-1, 128]         131,200\n",
            "      BatchNorm1d-12                  [-1, 128]             256\n",
            "        LeakyReLU-13                  [-1, 128]               0\n",
            "           Linear-14                   [-1, 32]           4,128\n",
            "           Linear-15                   [-1, 32]           4,128\n",
            "           Linear-16                  [-1, 128]           4,224\n",
            "      BatchNorm1d-17                  [-1, 128]             256\n",
            "        LeakyReLU-18                  [-1, 128]               0\n",
            "           Linear-19                 [-1, 1024]         132,096\n",
            "      BatchNorm1d-20                 [-1, 1024]           2,048\n",
            "        LeakyReLU-21                 [-1, 1024]               0\n",
            "          Reshape-22             [-1, 64, 4, 4]               0\n",
            "  ConvTranspose2d-23             [-1, 32, 7, 7]          18,464\n",
            "      BatchNorm2d-24             [-1, 32, 7, 7]              64\n",
            "        LeakyReLU-25             [-1, 32, 7, 7]               0\n",
            "  ConvTranspose2d-26           [-1, 16, 14, 14]           4,624\n",
            "      BatchNorm2d-27           [-1, 16, 14, 14]              32\n",
            "        LeakyReLU-28           [-1, 16, 14, 14]               0\n",
            "  ConvTranspose2d-29            [-1, 1, 28, 28]             145\n",
            "          Sigmoid-30            [-1, 1, 28, 28]               0\n",
            "================================================================\n",
            "Total params: 325,185\n",
            "Trainable params: 325,185\n",
            "Non-trainable params: 0\n",
            "----------------------------------------------------------------\n",
            "Input size (MB): 0.00\n",
            "Forward/backward pass size (MB): 0.30\n",
            "Params size (MB): 1.24\n",
            "Estimated Total Size (MB): 1.54\n",
            "----------------------------------------------------------------\n"
          ]
        }
      ],
      "source": [
        "# model summary\n",
        "summary(model, (1,28,28))"
      ]
    },
    {
      "cell_type": "markdown",
      "metadata": {
        "id": "dRwupNxk711T"
      },
      "source": [
        "The loss funtion of Variational Autoencoders is called Evidence Lower Bound (ELBO) as it bounds the likelihood of the data which we want to maximise and it consists of two terms.\n",
        "$$ L = ReconstructionLoss + KLDivergence $$\n",
        "Reconstruction Loss is simply a measure of the likelihood of the reconstructed data output at the decoder. Typically, it is the mean squared error between input and output.\n",
        "\n",
        "KL Divergence here acts as a regulaizer term becuase it is constraint on the form of tour approximate posterior. Typically, it is assumed as standard normal distribution.\n",
        "\n",
        "$$KL(N(\\mu, \\sigma), N(0, 1)) = -0.5 * (1 + \\log \\sigma^2 - \\sigma^2 - \\mu^2)$$\n",
        "\n",
        "Complete derivation of the loss for VAEs can be studied [here](https://deepai.org/publication/tutorial-deriving-the-standard-variational-autoencoder-vae-loss-function)"
      ]
    },
    {
      "cell_type": "markdown",
      "metadata": {
        "id": "7BVEaW7_CtNu"
      },
      "source": [
        "Another thing we need to take care of is the weight of each term in the loss. If the weight of KL Divergence is too high, it will then take focus off reconstruction and we will get bad reconstruction and if it is too low, the approximate posterior distribution will become non-continous."
      ]
    },
    {
      "cell_type": "code",
      "execution_count": 9,
      "metadata": {
        "id": "mLVJ3APiwsTs"
      },
      "outputs": [],
      "source": [
        "# Loss function for Variational Auto Encoder\n",
        "def loss_fn(y_true, y_pred, mu, logvar):\n",
        "\n",
        "    # The total loss will consist of two parts: Reconstruction loss and KL divergence\n",
        "\n",
        "    # Reconstruction Loss is simply mean squared error of gt and prediction like in autoencoders.\n",
        "    reconstruction_loss = nn.functional.mse_loss(y_pred, y_true)\n",
        "\n",
        "    # The second part of loss is the KL Divergence between the approximate posterior q(z|x) and latent prior p(z) assuming them to be normal distributions.\n",
        "    kld_loss =   torch.mean(-0.5 * torch.sum(1 + logvar - mu ** 2 - logvar.exp(), dim = 1), dim = 0)\n",
        "\n",
        "    loss = (1-KLD_WEIGHT)*reconstruction_loss + KLD_WEIGHT*kld_loss\n",
        "    return loss"
      ]
    },
    {
      "cell_type": "code",
      "execution_count": 10,
      "metadata": {
        "id": "buCU8mBfwmF8"
      },
      "outputs": [],
      "source": [
        "# Defining the optimizer here\n",
        "optimizer = torch.optim.Adam(model.parameters(), lr=LEARNING_RATE)"
      ]
    },
    {
      "cell_type": "code",
      "execution_count": 11,
      "metadata": {
        "colab": {
          "base_uri": "https://localhost:8080/"
        },
        "id": "55DPAA8P1qqE",
        "outputId": "4742cc05-4473-4f81-840d-f59087678c5b"
      },
      "outputs": [
        {
          "output_type": "stream",
          "name": "stderr",
          "text": [
            "Epoch 1/20: : 100%|██████████| 938/938 [00:21<00:00, 43.80it/s, batch_loss=0.088, avg_loss=0.133]\n",
            "Epoch 2/20: : 100%|██████████| 938/938 [00:19<00:00, 47.39it/s, batch_loss=0.0585, avg_loss=0.0719]\n",
            "Epoch 3/20: : 100%|██████████| 938/938 [00:20<00:00, 45.55it/s, batch_loss=0.0534, avg_loss=0.0548]\n",
            "Epoch 4/20: : 100%|██████████| 938/938 [00:20<00:00, 46.32it/s, batch_loss=0.0484, avg_loss=0.049]\n",
            "Epoch 5/20: : 100%|██████████| 938/938 [00:20<00:00, 46.84it/s, batch_loss=0.0482, avg_loss=0.0461]\n",
            "Epoch 6/20: : 100%|██████████| 938/938 [00:20<00:00, 45.78it/s, batch_loss=0.0445, avg_loss=0.0443]\n",
            "Epoch 7/20: : 100%|██████████| 938/938 [00:19<00:00, 47.66it/s, batch_loss=0.0458, avg_loss=0.0429]\n",
            "Epoch 8/20: : 100%|██████████| 938/938 [00:20<00:00, 45.97it/s, batch_loss=0.0462, avg_loss=0.042]\n",
            "Epoch 9/20: : 100%|██████████| 938/938 [00:20<00:00, 46.51it/s, batch_loss=0.0425, avg_loss=0.0412]\n",
            "Epoch 10/20: : 100%|██████████| 938/938 [00:19<00:00, 47.72it/s, batch_loss=0.0426, avg_loss=0.0405]\n",
            "Epoch 11/20: : 100%|██████████| 938/938 [00:20<00:00, 45.65it/s, batch_loss=0.0372, avg_loss=0.04]\n",
            "Epoch 12/20: : 100%|██████████| 938/938 [00:19<00:00, 47.44it/s, batch_loss=0.0409, avg_loss=0.0396]\n",
            "Epoch 13/20: : 100%|██████████| 938/938 [00:20<00:00, 46.44it/s, batch_loss=0.0403, avg_loss=0.0392]\n",
            "Epoch 14/20: : 100%|██████████| 938/938 [00:20<00:00, 46.65it/s, batch_loss=0.0406, avg_loss=0.0389]\n",
            "Epoch 15/20: : 100%|██████████| 938/938 [00:20<00:00, 46.76it/s, batch_loss=0.0416, avg_loss=0.0386]\n",
            "Epoch 16/20: : 100%|██████████| 938/938 [00:20<00:00, 45.99it/s, batch_loss=0.0417, avg_loss=0.0383]\n",
            "Epoch 17/20: : 100%|██████████| 938/938 [00:19<00:00, 47.55it/s, batch_loss=0.036, avg_loss=0.0382]\n",
            "Epoch 18/20: : 100%|██████████| 938/938 [00:20<00:00, 46.07it/s, batch_loss=0.0421, avg_loss=0.038]\n",
            "Epoch 19/20: : 100%|██████████| 938/938 [00:20<00:00, 46.27it/s, batch_loss=0.0372, avg_loss=0.0378]\n",
            "Epoch 20/20: : 100%|██████████| 938/938 [00:19<00:00, 47.50it/s, batch_loss=0.04, avg_loss=0.0377]\n"
          ]
        }
      ],
      "source": [
        "# Training loop\n",
        "loss_history = []\n",
        "for i in range(1,EPOCHS+1):\n",
        "    running_loss = 0\n",
        "    pbar = tqdm(train_dataloader)\n",
        "    for b, data in enumerate(pbar):\n",
        "        # Every data instance is an input + label pair. We don't need the label\n",
        "        inputs, _ = data\n",
        "        inputs = inputs.to(device)\n",
        "\n",
        "        # Zero the gradients for every batch!\n",
        "        optimizer.zero_grad()\n",
        "\n",
        "        # Make predictions for this batch\n",
        "        outputs, mu, logvar = model(inputs)\n",
        "\n",
        "        # Compute the loss and its gradients\n",
        "        loss = loss_fn(inputs, outputs, mu, logvar)\n",
        "        loss.backward()\n",
        "\n",
        "        # Adjust learning weights\n",
        "        optimizer.step()\n",
        "\n",
        "        # Update Progress\n",
        "        running_loss += loss.item()\n",
        "        pbar.set_description(f\"Epoch {i}/{EPOCHS}: \")\n",
        "        pbar.set_postfix({\"batch_loss\": loss.item(), \"avg_loss\": running_loss/(b+1)})\n",
        "    loss_history.append(running_loss)"
      ]
    },
    {
      "cell_type": "code",
      "execution_count": 12,
      "metadata": {
        "colab": {
          "base_uri": "https://localhost:8080/",
          "height": 314
        },
        "id": "romlESfk2BVS",
        "outputId": "9c44342c-abc1-4d31-d290-b12a1408f878"
      },
      "outputs": [
        {
          "output_type": "display_data",
          "data": {
            "text/plain": [
              "<Figure size 1400x300 with 1 Axes>"
            ],
            "image/png": "[encoded data removed]"
          },
          "metadata": {}
        }
      ],
      "source": [
        "plt.figure(figsize=(14, 3))\n",
        "plt.plot(loss_history, 'k', lw=3)\n",
        "plt.title('Loss');"
      ]
    },
    {
      "cell_type": "code",
      "execution_count": 13,
      "metadata": {
        "id": "LCtOJPdp2AFl"
      },
      "outputs": [],
      "source": [
        "# Helper function to display results\n",
        "def display_image_grid(images, num_rows, num_cols, title_text):\n",
        "\n",
        "    fig = plt.figure(figsize=(num_cols*3., num_rows*3.), )\n",
        "    grid = ImageGrid(fig, 111, nrows_ncols=(num_rows, num_cols), axes_pad=0.15)\n",
        "\n",
        "    for ax, im in zip(grid, images):\n",
        "        ax.imshow(im, cmap=\"gray\")\n",
        "        ax.axis(\"off\")\n",
        "\n",
        "    plt.suptitle(title_text, fontsize=20)\n",
        "    plt.show()"
      ]
    },
    {
      "cell_type": "code",
      "execution_count": 14,
      "metadata": {
        "colab": {
          "base_uri": "https://localhost:8080/"
        },
        "id": "Rajsj2B52Jpk",
        "outputId": "7a8f287e-aa99-4d0f-ba96-297e326bbec3"
      },
      "outputs": [
        {
          "output_type": "execute_result",
          "data": {
            "text/plain": [
              "VariationalAutoEncoder(\n",
              "  (encoder_top): Sequential(\n",
              "    (0): Conv2d(1, 16, kernel_size=(3, 3), stride=(2, 2), padding=(1, 1))\n",
              "    (1): BatchNorm2d(16, eps=1e-05, momentum=0.1, affine=True, track_running_stats=True)\n",
              "    (2): LeakyReLU(negative_slope=0.01)\n",
              "    (3): Conv2d(16, 32, kernel_size=(3, 3), stride=(2, 2), padding=(1, 1))\n",
              "    (4): BatchNorm2d(32, eps=1e-05, momentum=0.1, affine=True, track_running_stats=True)\n",
              "    (5): LeakyReLU(negative_slope=0.01)\n",
              "    (6): Conv2d(32, 64, kernel_size=(3, 3), stride=(2, 2), padding=(1, 1))\n",
              "    (7): BatchNorm2d(64, eps=1e-05, momentum=0.1, affine=True, track_running_stats=True)\n",
              "    (8): LeakyReLU(negative_slope=0.01)\n",
              "    (9): Flatten(start_dim=1, end_dim=-1)\n",
              "    (10): Linear(in_features=1024, out_features=128, bias=True)\n",
              "    (11): BatchNorm1d(128, eps=1e-05, momentum=0.1, affine=True, track_running_stats=True)\n",
              "    (12): LeakyReLU(negative_slope=0.01)\n",
              "  )\n",
              "  (mu_layer): Linear(in_features=128, out_features=32, bias=True)\n",
              "  (logvar_layer): Linear(in_features=128, out_features=32, bias=True)\n",
              "  (decoder): Sequential(\n",
              "    (0): Linear(in_features=32, out_features=128, bias=True)\n",
              "    (1): BatchNorm1d(128, eps=1e-05, momentum=0.1, affine=True, track_running_stats=True)\n",
              "    (2): LeakyReLU(negative_slope=0.01)\n",
              "    (3): Linear(in_features=128, out_features=1024, bias=True)\n",
              "    (4): BatchNorm1d(1024, eps=1e-05, momentum=0.1, affine=True, track_running_stats=True)\n",
              "    (5): LeakyReLU(negative_slope=0.01)\n",
              "    (6): Reshape()\n",
              "    (7): ConvTranspose2d(64, 32, kernel_size=(3, 3), stride=(2, 2), padding=(1, 1))\n",
              "    (8): BatchNorm2d(32, eps=1e-05, momentum=0.1, affine=True, track_running_stats=True)\n",
              "    (9): LeakyReLU(negative_slope=0.01)\n",
              "    (10): ConvTranspose2d(32, 16, kernel_size=(3, 3), stride=(2, 2), padding=(1, 1), output_padding=(1, 1))\n",
              "    (11): BatchNorm2d(16, eps=1e-05, momentum=0.1, affine=True, track_running_stats=True)\n",
              "    (12): LeakyReLU(negative_slope=0.01)\n",
              "    (13): ConvTranspose2d(16, 1, kernel_size=(3, 3), stride=(2, 2), padding=(1, 1), output_padding=(1, 1))\n",
              "    (14): Sigmoid()\n",
              "  )\n",
              ")"
            ]
          },
          "metadata": {},
          "execution_count": 14
        }
      ],
      "source": [
        "# Set the model to eval state\n",
        "model.eval()"
      ]
    },
    {
      "cell_type": "code",
      "execution_count": 15,
      "metadata": {
        "colab": {
          "base_uri": "https://localhost:8080/",
          "height": 546
        },
        "id": "5f9raaWk2L81",
        "outputId": "8e7b470d-37aa-4c3d-b687-1c468ae1214d"
      },
      "outputs": [
        {
          "output_type": "display_data",
          "data": {
            "text/plain": [
              "<Figure size 2100x300 with 14 Axes>"
            ],
            "image/png": "[encoded data removed]"
          },
          "metadata": {}
        },
        {
          "output_type": "display_data",
          "data": {
            "text/plain": [
              "<Figure size 2100x300 with 14 Axes>"
            ],
            "image/png": "[encoded data removed]"
          },
          "metadata": {}
        }
      ],
      "source": [
        "# Display some sample images and there reconstruction through auto encoders\n",
        "\n",
        "images = []\n",
        "cols, rows = 7, 1\n",
        "for i in range(cols * rows):\n",
        "    sample_idx = torch.randint(len(mnist_dataset), size=(1,)).item()\n",
        "    img, label = mnist_dataset[sample_idx]\n",
        "    images.append(img.squeeze())\n",
        "\n",
        "display_image_grid(images, rows, cols, \"original_images\")\n",
        "with torch.no_grad():\n",
        "    reconstructed_images = model(torch.stack(images).unsqueeze(1).to(device))[0].cpu()\n",
        "display_image_grid(reconstructed_images.squeeze(1), rows, cols, \"reconstructed_images\")\n"
      ]
    },
    {
      "cell_type": "markdown",
      "metadata": {
        "id": "sRw2nEWX2WWq"
      },
      "source": [
        "### Generation through Variational AutoEncoders"
      ]
    },
    {
      "cell_type": "code",
      "execution_count": 16,
      "metadata": {
        "colab": {
          "base_uri": "https://localhost:8080/",
          "height": 535
        },
        "id": "N7dzhdmi2Pzj",
        "outputId": "f3251a31-76c1-4f95-c38e-2e9f762f3f4a"
      },
      "outputs": [
        {
          "output_type": "display_data",
          "data": {
            "text/plain": [
              "<Figure size 2100x600 with 28 Axes>"
            ],
            "image/png": "[encoded data removed]"
          },
          "metadata": {}
        }
      ],
      "source": [
        "# Now we will try some actual generation. We will sample the encodings randomly and then pass them through decoder\n",
        "rows, cols = 2, 7\n",
        "sample_encodings = torch.randn(rows*cols, Z).to(device)\n",
        "with torch.no_grad():\n",
        "    generations = model.decoder(sample_encodings).cpu()\n",
        "display_image_grid(generations.squeeze(1), rows, cols, \"generated_images\")"
      ]
    },
    {
      "cell_type": "markdown",
      "metadata": {
        "id": "axN50IrtGjTw"
      },
      "source": [
        "### Discussion"
      ]
    },
    {
      "cell_type": "markdown",
      "metadata": {
        "id": "ZIw6-C9_GnMc"
      },
      "source": [
        "With Variational AutoEncoders, we sacrificed a little in reconstruction but in the end we got some decent generations from completely random inputs. But as it can be seen, they are blurry. This is one of the shortcommings of VAEs, that they produce blurry images."
      ]
    },
    {
      "cell_type": "code",
      "execution_count": null,
      "metadata": {
        "id": "VtSeGOtJ207X"
      },
      "outputs": [],
      "source": []
    }
  ],
  "metadata": {
    "accelerator": "GPU",
    "colab": {
      "provenance": [],
      "include_colab_link": true
    },
    "kernelspec": {
      "display_name": "Python 3 (ipykernel)",
      "language": "python",
      "name": "python3"
    },
    "language_info": {
      "codemirror_mode": {
        "name": "ipython",
        "version": 3
      },
      "file_extension": ".py",
      "mimetype": "text/x-python",
      "name": "python",
      "nbconvert_exporter": "python",
      "pygments_lexer": "ipython3",
      "version": "3.9.12"
    },
    "toc": {
      "base_numbering": 1,
      "nav_menu": {},
      "number_sections": true,
      "sideBar": true,
      "skip_h1_title": false,
      "title_cell": "Table of Contents",
      "title_sidebar": "Contents",
      "toc_cell": false,
      "toc_position": {},
      "toc_section_display": true,
      "toc_window_display": false
    }
  },
  "nbformat": 4,
  "nbformat_minor": 0
}