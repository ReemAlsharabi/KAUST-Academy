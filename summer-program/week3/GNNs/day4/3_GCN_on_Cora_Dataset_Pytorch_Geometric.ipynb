{
  "nbformat": 4,
  "nbformat_minor": 0,
  "metadata": {
    "colab": {
      "provenance": [],
      "include_colab_link": true
    },
    "kernelspec": {
      "name": "python3",
      "display_name": "Python 3"
    },
    "language_info": {
      "name": "python"
    }
  },
  "cells": [
    {
      "cell_type": "markdown",
      "metadata": {
        "id": "view-in-github",
        "colab_type": "text"
      },
      "source": [
        "<a href=\"https://colab.research.google.com/github/ReemAlsharabi/KAUST-Academy/blob/main/summer-program/week3/GNNs/day3/3_GCN_on_Cora_Dataset_Pytorch_Geometric.ipynb\" target=\"_parent\"><img src=\"https://colab.research.google.com/assets/colab-badge.svg\" alt=\"Open In Colab\"/></a>"
      ]
    },
    {
      "cell_type": "markdown",
      "source": [
        "This tutorial is adapted from [Dair-AI Pytorch Geometric Tutorial](https://github.com/dair-ai/GNNs-Recipe) by Elvis Saravia."
      ],
      "metadata": {
        "id": "6fjAwlj8LCh4"
      }
    },
    {
      "cell_type": "markdown",
      "source": [
        "## Introduction to GNNs with PyTorch Geometric\n",
        "\n",
        "In this short notebook, the goal is to provide a introductory guide to get started with Graph Neural Networks using the popular library called [PyTorch Geometric](https://pytorch-geometric.readthedocs.io/en/latest/index.html). PyTorch Geometric is a PyTorch based libary hence we will be using PyTorch in this tutorial.\n",
        "\n",
        "The code used in this tutorial has been adapted from their official [examples](https://pytorch-geometric.readthedocs.io/en/latest/notes/introduction.html)."
      ],
      "metadata": {
        "id": "sjX6CPJFA52R"
      }
    },
    {
      "cell_type": "code",
      "source": [
        "# Find the CUDA version PyTorch was installed with\n",
        "!python -c \"import torch; print(torch.version.cuda)\""
      ],
      "metadata": {
        "colab": {
          "base_uri": "https://localhost:8080/"
        },
        "id": "mwTz9zaHC7YA",
        "outputId": "3d512f4a-3bf1-402a-b4b7-6ccab9c1cc64"
      },
      "execution_count": null,
      "outputs": [
        {
          "output_type": "stream",
          "name": "stdout",
          "text": [
            "11.6\n"
          ]
        }
      ]
    },
    {
      "cell_type": "code",
      "source": [
        "# PyTorch version\n",
        "!python -c \"import torch; print(torch.__version__)\""
      ],
      "metadata": {
        "colab": {
          "base_uri": "https://localhost:8080/"
        },
        "id": "2jo0YpV0DLDW",
        "outputId": "4dbb8e76-10f6-4b59-b842-0d2e2bf93b1e"
      },
      "execution_count": null,
      "outputs": [
        {
          "output_type": "stream",
          "name": "stdout",
          "text": [
            "1.13.1+cu116\n"
          ]
        }
      ]
    },
    {
      "cell_type": "markdown",
      "source": [
        "Install the follow packages but make sure to\n",
        "\n",
        "---\n",
        "\n",
        "install the right version below. Find more instructions [here](https://pytorch-geometric.readthedocs.io/en/latest/notes/installation.html) if you get lost."
      ],
      "metadata": {
        "id": "P-VLTfxzEmLu"
      }
    },
    {
      "cell_type": "code",
      "source": [
        "!pip install torch-scatter -f https://data.pyg.org/whl/torch-1.10.0+cu111.html"
      ],
      "metadata": {
        "id": "fLbSOIkaDRe4"
      },
      "execution_count": null,
      "outputs": []
    },
    {
      "cell_type": "code",
      "source": [
        "!pip install torch-sparse -f https://data.pyg.org/whl/torch-1.10.0+cu111.html"
      ],
      "metadata": {
        "id": "Q-wRLXE_DkZF"
      },
      "execution_count": null,
      "outputs": []
    },
    {
      "cell_type": "code",
      "source": [
        "!pip install torch-geometric"
      ],
      "metadata": {
        "id": "lAobCDu6Dppo"
      },
      "execution_count": null,
      "outputs": []
    },
    {
      "cell_type": "markdown",
      "source": [
        "## Getting Started"
      ],
      "metadata": {
        "id": "GNfiSdoUFaoF"
      }
    },
    {
      "cell_type": "markdown",
      "source": [
        "Import PyTorch"
      ],
      "metadata": {
        "id": "D6LCvEr7CGF9"
      }
    },
    {
      "cell_type": "code",
      "execution_count": null,
      "metadata": {
        "colab": {
          "base_uri": "https://localhost:8080/"
        },
        "id": "pqrlyFN1AtXI",
        "outputId": "23a5c8be-34e9-4ca9-f949-fb3a9217ad08"
      },
      "outputs": [
        {
          "output_type": "stream",
          "name": "stdout",
          "text": [
            "1.13.1+cu116\n"
          ]
        }
      ],
      "source": [
        "import torch\n",
        "\n",
        "# print torch version\n",
        "print(torch.__version__)"
      ]
    },
    {
      "cell_type": "markdown",
      "source": [
        "The great thing about PyTorch Geometric is that it contain useful functionalities to import and load graph related data."
      ],
      "metadata": {
        "id": "V0xfcmMfCFIH"
      }
    },
    {
      "cell_type": "code",
      "source": [
        "from torch_geometric.data import Data"
      ],
      "metadata": {
        "id": "gfIc5j5YB2_a"
      },
      "execution_count": null,
      "outputs": []
    },
    {
      "cell_type": "markdown",
      "source": [
        "Now let's create an unweighted and undirected graph with three nodes and four total edges."
      ],
      "metadata": {
        "id": "4wuBs1NHEFqn"
      }
    },
    {
      "cell_type": "code",
      "source": [
        "# define edge list\n",
        "edge_index = torch.tensor([[0, 1, 1, 2], [1, 0, 2, 1]], dtype=torch.long)\n",
        "\n",
        "# define node features\n",
        "x = torch.tensor([[-1], [0], [1]])\n",
        "\n",
        "# create graph data object\n",
        "data = Data(x=x, edge_index=edge_index)\n",
        "print(data)"
      ],
      "metadata": {
        "colab": {
          "base_uri": "https://localhost:8080/"
        },
        "id": "-nLnUIObCTjK",
        "outputId": "6f3213c6-6d38-4c5b-bf19-2d757d64166d"
      },
      "execution_count": null,
      "outputs": [
        {
          "output_type": "stream",
          "name": "stdout",
          "text": [
            "Data(x=[3, 1], edge_index=[2, 4])\n"
          ]
        }
      ]
    },
    {
      "cell_type": "markdown",
      "source": [
        "Our data object `Data` has many useful utility functions to check the properties of the graph."
      ],
      "metadata": {
        "id": "zV7bQ6tAEQ7H"
      }
    },
    {
      "cell_type": "code",
      "source": [
        "# check number of edges of the graph\n",
        "print(data.num_edges)"
      ],
      "metadata": {
        "colab": {
          "base_uri": "https://localhost:8080/"
        },
        "id": "idbfqPzoEOPC",
        "outputId": "750ba529-470f-4df8-d774-12edfe2116e4"
      },
      "execution_count": null,
      "outputs": [
        {
          "output_type": "stream",
          "name": "stdout",
          "text": [
            "4\n"
          ]
        }
      ]
    },
    {
      "cell_type": "code",
      "source": [
        "# check number of nodes of the graph\n",
        "print(data.num_nodes)"
      ],
      "metadata": {
        "colab": {
          "base_uri": "https://localhost:8080/"
        },
        "id": "r0lcSstME0MP",
        "outputId": "0d283b40-c804-452f-dd61-cf4d956f58c1"
      },
      "execution_count": null,
      "outputs": [
        {
          "output_type": "stream",
          "name": "stdout",
          "text": [
            "3\n"
          ]
        }
      ]
    },
    {
      "cell_type": "code",
      "source": [
        "# check number of features of the graph\n",
        "print(data.num_features)"
      ],
      "metadata": {
        "colab": {
          "base_uri": "https://localhost:8080/"
        },
        "id": "yiegwHTyE2AO",
        "outputId": "6fa9fd18-c966-4d16-d8e3-41631d779e3a"
      },
      "execution_count": null,
      "outputs": [
        {
          "output_type": "stream",
          "name": "stdout",
          "text": [
            "1\n"
          ]
        }
      ]
    },
    {
      "cell_type": "code",
      "source": [
        "# check if graph is directed\n",
        "print(data.is_directed())"
      ],
      "metadata": {
        "colab": {
          "base_uri": "https://localhost:8080/"
        },
        "id": "JNWjhaSeE3Yk",
        "outputId": "4b8a2e2a-3714-4d2f-ffaa-65b9fc849eb0"
      },
      "execution_count": null,
      "outputs": [
        {
          "output_type": "stream",
          "name": "stdout",
          "text": [
            "False\n"
          ]
        }
      ]
    },
    {
      "cell_type": "markdown",
      "source": [
        "## Loading Data"
      ],
      "metadata": {
        "id": "HF-jGPyhFeO6"
      }
    },
    {
      "cell_type": "markdown",
      "source": [
        "Find more fun functions related to graph data [here](https://pytorch-geometric.readthedocs.io/en/latest/modules/data.html#torch_geometric.data.Data)."
      ],
      "metadata": {
        "id": "KBVX6mZfFBxE"
      }
    },
    {
      "cell_type": "markdown",
      "source": [
        "One of the cool things about the PyTorch Geometric library is that it contains out-of-the-box benchmark datasets that are ready to use and explore. A popular dataset is the Cora dataset that is used for supervised graph node classification.\n",
        "\n",
        "\"The Cora dataset consists of 2708 scientific publications classified into one of seven classes. The citation network consists of 5429 links. Each publication in the dataset is described by a 0/1-valued word vector indicating the absence/presence of the corresponding word from the dictionary. The dictionary consists of 1433 unique words.\" - [Papers with Code](https://paperswithcode.com/dataset/cora)."
      ],
      "metadata": {
        "id": "LHvE23mwFJ-3"
      }
    },
    {
      "cell_type": "markdown",
      "source": [
        "Let's load the Cora dataset:"
      ],
      "metadata": {
        "id": "_8ganBm_FiaQ"
      }
    },
    {
      "cell_type": "code",
      "source": [
        "from torch_geometric.datasets import Planetoid\n",
        "\n",
        "dataset = Planetoid(root='tmp/Cora', name='Cora')"
      ],
      "metadata": {
        "colab": {
          "base_uri": "https://localhost:8080/"
        },
        "id": "K3bXwOpoE75M",
        "outputId": "288da92d-1c17-4f3b-d91f-646c5bf14b20"
      },
      "execution_count": null,
      "outputs": [
        {
          "output_type": "stream",
          "name": "stderr",
          "text": [
            "Downloading https://github.com/kimiyoung/planetoid/raw/master/data/ind.cora.x\n",
            "Downloading https://github.com/kimiyoung/planetoid/raw/master/data/ind.cora.tx\n",
            "Downloading https://github.com/kimiyoung/planetoid/raw/master/data/ind.cora.allx\n",
            "Downloading https://github.com/kimiyoung/planetoid/raw/master/data/ind.cora.y\n",
            "Downloading https://github.com/kimiyoung/planetoid/raw/master/data/ind.cora.ty\n",
            "Downloading https://github.com/kimiyoung/planetoid/raw/master/data/ind.cora.ally\n",
            "Downloading https://github.com/kimiyoung/planetoid/raw/master/data/ind.cora.graph\n",
            "Downloading https://github.com/kimiyoung/planetoid/raw/master/data/ind.cora.test.index\n",
            "Processing...\n",
            "Done!\n"
          ]
        }
      ]
    },
    {
      "cell_type": "markdown",
      "source": [
        "Let's check some of the properties of the Cora dataset."
      ],
      "metadata": {
        "id": "rQTFnBcuFpLv"
      }
    },
    {
      "cell_type": "code",
      "source": [
        "# number of graphs\n",
        "print(\"Number of graphs: \", len(dataset))\n",
        "\n",
        "# number of features\n",
        "print(\"Number of features: \", dataset.num_features)\n",
        "\n",
        "# number of classes\n",
        "print(\"Number of classes: \", dataset.num_classes)"
      ],
      "metadata": {
        "colab": {
          "base_uri": "https://localhost:8080/"
        },
        "id": "q9jvXbRXFlGG",
        "outputId": "55bb7033-4da6-427f-e5ab-fdcd4071f328"
      },
      "execution_count": null,
      "outputs": [
        {
          "output_type": "stream",
          "name": "stdout",
          "text": [
            "Number of graphs:  1\n",
            "Number of features:  1433\n",
            "Number of classes:  7\n"
          ]
        }
      ]
    },
    {
      "cell_type": "markdown",
      "source": [
        "We can see that this particular graph dataset only contains one graph. Graph data can be very complex and can include multiple graphs depending on the type of data and application. Let's check more feature of the Cora dataset:"
      ],
      "metadata": {
        "id": "57SX-idAF02R"
      }
    },
    {
      "cell_type": "code",
      "source": [
        "# select the first graph\n",
        "data = dataset[0]\n",
        "\n",
        "# number of nodes\n",
        "print(\"Number of nodes: \", data.num_nodes)\n",
        "\n",
        "# number of edges\n",
        "print(\"Number of edges: \", data.num_edges)\n",
        "\n",
        "# check if directed\n",
        "print(\"Is directed: \", data.is_directed())"
      ],
      "metadata": {
        "colab": {
          "base_uri": "https://localhost:8080/"
        },
        "id": "8aOt8HwfFrH_",
        "outputId": "6eab2ad6-0b58-4cdf-96ff-30c94077deb9"
      },
      "execution_count": null,
      "outputs": [
        {
          "output_type": "stream",
          "name": "stdout",
          "text": [
            "Number of nodes:  2708\n",
            "Number of edges:  10556\n",
            "Is directed:  False\n"
          ]
        }
      ]
    },
    {
      "cell_type": "markdown",
      "source": [
        "You can sample nodes from the graph this way:"
      ],
      "metadata": {
        "id": "3XX2MRY4GEQS"
      }
    },
    {
      "cell_type": "code",
      "source": [
        "# sample nodes from the graph\n",
        "print(\"Shape of sample nodes: \", data.x[:5].shape)"
      ],
      "metadata": {
        "colab": {
          "base_uri": "https://localhost:8080/"
        },
        "id": "qGJKbv-4GAtY",
        "outputId": "08af372e-8d31-48dc-c3ca-e4d565d91a0d"
      },
      "execution_count": null,
      "outputs": [
        {
          "output_type": "stream",
          "name": "stdout",
          "text": [
            "Shape of sample nodes:  torch.Size([5, 1433])\n"
          ]
        }
      ]
    },
    {
      "cell_type": "markdown",
      "source": [
        "We extracted 5 nodes from the graph and checked its shape. You will see that each node has `1433` features."
      ],
      "metadata": {
        "id": "wV1yBQSvGM9q"
      }
    },
    {
      "cell_type": "markdown",
      "source": [
        "Another great advantage of using PyTorch Geometric to load the Cora data is that it comes pre-processed and ready to use. It also has the splits for training, validation and test which we can directly use for training a GNN.\n",
        "\n",
        "Let's check some stats for the partitions of the data:"
      ],
      "metadata": {
        "id": "oXMY2lU0GWQL"
      }
    },
    {
      "cell_type": "code",
      "source": [
        "# check training nodes\n",
        "print(\"# of nodes to train on: \", data.train_mask.sum().item())\n",
        "\n",
        "# check test nodes\n",
        "print(\"# of nodes to test on: \", data.test_mask.sum().item())\n",
        "\n",
        "# check validation nodes\n",
        "print(\"# of nodes to validate on: \", data.val_mask.sum().item())"
      ],
      "metadata": {
        "colab": {
          "base_uri": "https://localhost:8080/"
        },
        "id": "MzITbLkpGIUP",
        "outputId": "f50075b8-3dac-4167-a8c8-265a2eb06faf"
      },
      "execution_count": null,
      "outputs": [
        {
          "output_type": "stream",
          "name": "stdout",
          "text": [
            "# of nodes to train on:  140\n",
            "# of nodes to test on:  1000\n",
            "# of nodes to validate on:  500\n"
          ]
        }
      ]
    },
    {
      "cell_type": "markdown",
      "source": [
        "That information is important as it will indicate to our model which nodes to train against and which to test against, and so on.\n",
        "\n",
        "When training neural networks we train them using batches of data. PyTorch Geometric provides efficient processes to load batches of data.\n",
        "\n",
        "PyTorch Geometric contains a data loader which is a very popular feature in PyTorch to efficiently load data when training neural networks."
      ],
      "metadata": {
        "id": "7IGOoSfwHjeD"
      }
    },
    {
      "cell_type": "markdown",
      "source": [
        "So let's try to load the data using the built in `DataLoader`:"
      ],
      "metadata": {
        "id": "_SUZUnXzH1zN"
      }
    },
    {
      "cell_type": "code",
      "source": [
        "from torch_geometric.datasets import Planetoid\n",
        "from torch_geometric.loader import DataLoader\n",
        "device = torch.device('cuda' if torch.cuda.is_available() else 'cpu')"
      ],
      "metadata": {
        "id": "9tdHl4oZGw_y"
      },
      "execution_count": null,
      "outputs": []
    },
    {
      "cell_type": "code",
      "source": [
        "print(device)"
      ],
      "metadata": {
        "colab": {
          "base_uri": "https://localhost:8080/"
        },
        "id": "xtJAp4QqIMWw",
        "outputId": "c9f6bb62-78e3-4b9e-ce11-04007c1d36be"
      },
      "execution_count": null,
      "outputs": [
        {
          "output_type": "stream",
          "name": "stdout",
          "text": [
            "cpu\n"
          ]
        }
      ]
    },
    {
      "cell_type": "code",
      "source": [
        "dataset = Planetoid(root='tmp/Cora', name='Cora')\n",
        "data = dataset[0].to(device)"
      ],
      "metadata": {
        "id": "06xbeTJcH8C-"
      },
      "execution_count": null,
      "outputs": []
    },
    {
      "cell_type": "markdown",
      "source": [
        "Print some quick statistics about the data:"
      ],
      "metadata": {
        "id": "8MH0lQsYIV0V"
      }
    },
    {
      "cell_type": "code",
      "source": [
        "print(\"X shape: \", data.x.shape)\n",
        "print(\"Edge shape: \", data.edge_index.shape)\n",
        "print(\"Y shape: \", data.y.shape)"
      ],
      "metadata": {
        "colab": {
          "base_uri": "https://localhost:8080/"
        },
        "id": "gK7-K6uYH_Iu",
        "outputId": "2bb8bbf3-3833-4f47-a5e7-23360fdac987"
      },
      "execution_count": null,
      "outputs": [
        {
          "output_type": "stream",
          "name": "stdout",
          "text": [
            "X shape:  torch.Size([2708, 1433])\n",
            "Edge shape:  torch.Size([2, 10556])\n",
            "Y shape:  torch.Size([2708])\n"
          ]
        }
      ]
    },
    {
      "cell_type": "markdown",
      "source": [
        "## Model and Training"
      ],
      "metadata": {
        "id": "TUGNxhBOIuYe"
      }
    },
    {
      "cell_type": "markdown",
      "source": [
        "Finally, let's define a standard GCN to train on the Cora dataset. The aim is to train a model that gets better at predicting the class of the node."
      ],
      "metadata": {
        "id": "v1pz24blIwnR"
      }
    },
    {
      "cell_type": "markdown",
      "source": [
        "We are using the built-in `GCNConv` model but we could easily implement your own.\n",
        "\n",
        "The model below uses two `GCNConv` layers. The first layer is followed by a non-linearity `ReLU` and `Dropout`. The result is fed to the second layer on top of which we apply `Softmax` to get distribution over the number of classes."
      ],
      "metadata": {
        "id": "dhdMehneI2bn"
      }
    },
    {
      "cell_type": "code",
      "source": [
        "import torch.nn.functional as F\n",
        "from torch_geometric.nn import GCNConv\n",
        "\n",
        "class GCN(torch.nn.Module):\n",
        "    def __init__(self):\n",
        "        super().__init__()\n",
        "        \"\"\" GCNConv layers \"\"\"\n",
        "        self.conv1 = GCNConv(data.num_features, 16)\n",
        "        self.conv2 = GCNConv(16, dataset.num_classes)\n",
        "\n",
        "    def forward(self, data):\n",
        "        x, edge_index = data.x, data.edge_index\n",
        "        x = self.conv1(x, edge_index)\n",
        "        x = F.relu(x)\n",
        "        x = F.dropout(x, training=self.training)\n",
        "        x = self.conv2(x, edge_index)\n",
        "\n",
        "        return F.log_softmax(x, dim=1)"
      ],
      "metadata": {
        "id": "q0AiwyWrJGhj"
      },
      "execution_count": null,
      "outputs": []
    },
    {
      "cell_type": "markdown",
      "source": [
        "Initial model and optimizer"
      ],
      "metadata": {
        "id": "Mfob8LS2KezY"
      }
    },
    {
      "cell_type": "code",
      "source": [
        "model = GCN().to(device)\n",
        "optimizer = torch.optim.Adam(model.parameters(), lr=0.01, weight_decay=5e-4)"
      ],
      "metadata": {
        "id": "GSZL4HS5Kd55"
      },
      "execution_count": null,
      "outputs": []
    },
    {
      "cell_type": "markdown",
      "source": [
        "Define axcuracy function for evaluating performance:"
      ],
      "metadata": {
        "id": "qpgxKMhmKitV"
      }
    },
    {
      "cell_type": "code",
      "source": [
        "# useful function for computing accuracy\n",
        "def compute_accuracy(pred_y, y):\n",
        "    return (pred_y == y).sum()"
      ],
      "metadata": {
        "id": "abnE-XTmKl92"
      },
      "execution_count": null,
      "outputs": []
    },
    {
      "cell_type": "markdown",
      "source": [
        "And finally we train the model on the training nodes for 200 epochs:"
      ],
      "metadata": {
        "id": "26W7sxVsKrGM"
      }
    },
    {
      "cell_type": "code",
      "source": [
        "# train the model\n",
        "model.train()\n",
        "losses = []\n",
        "accuracies = []\n",
        "for epoch in range(200):\n",
        "    optimizer.zero_grad()\n",
        "    out = model(data)\n",
        "\n",
        "    loss = F.nll_loss(out[data.train_mask], data.y[data.train_mask])\n",
        "    correct = compute_accuracy(out.argmax(dim=1)[data.train_mask], data.y[data.train_mask])\n",
        "    acc = int(correct) / int(data.train_mask.sum())\n",
        "    losses.append(loss.item())\n",
        "    accuracies.append(acc)\n",
        "\n",
        "    loss.backward()\n",
        "    optimizer.step()\n",
        "    if (epoch+1) % 10 == 0:\n",
        "        print('Epoch: {}, Loss: {:.4f}, Training Acc: {:.4f}'.format(epoch+1, loss.item(), acc))\n"
      ],
      "metadata": {
        "colab": {
          "base_uri": "https://localhost:8080/"
        },
        "id": "m39ZbE6RKyim",
        "outputId": "07c3ae73-29d7-4f98-ef2b-3c30a49ef74b"
      },
      "execution_count": null,
      "outputs": [
        {
          "output_type": "stream",
          "name": "stdout",
          "text": [
            "Epoch: 10, Loss: 0.8155, Training Acc: 0.9214\n",
            "Epoch: 20, Loss: 0.1801, Training Acc: 0.9857\n",
            "Epoch: 30, Loss: 0.0876, Training Acc: 0.9857\n",
            "Epoch: 40, Loss: 0.0618, Training Acc: 0.9929\n",
            "Epoch: 50, Loss: 0.0690, Training Acc: 0.9929\n",
            "Epoch: 60, Loss: 0.0486, Training Acc: 0.9786\n",
            "Epoch: 70, Loss: 0.0310, Training Acc: 1.0000\n",
            "Epoch: 80, Loss: 0.0287, Training Acc: 1.0000\n",
            "Epoch: 90, Loss: 0.0404, Training Acc: 1.0000\n",
            "Epoch: 100, Loss: 0.0526, Training Acc: 0.9929\n",
            "Epoch: 110, Loss: 0.0488, Training Acc: 1.0000\n",
            "Epoch: 120, Loss: 0.0408, Training Acc: 0.9929\n",
            "Epoch: 130, Loss: 0.0295, Training Acc: 1.0000\n",
            "Epoch: 140, Loss: 0.0287, Training Acc: 1.0000\n",
            "Epoch: 150, Loss: 0.0239, Training Acc: 1.0000\n",
            "Epoch: 160, Loss: 0.0354, Training Acc: 1.0000\n",
            "Epoch: 170, Loss: 0.0293, Training Acc: 1.0000\n",
            "Epoch: 180, Loss: 0.0253, Training Acc: 1.0000\n",
            "Epoch: 190, Loss: 0.0412, Training Acc: 0.9929\n",
            "Epoch: 200, Loss: 0.0363, Training Acc: 1.0000\n"
          ]
        }
      ]
    },
    {
      "cell_type": "code",
      "source": [
        "# plot the loss and accuracy\n",
        "import matplotlib.pyplot as plt\n",
        "plt.plot(losses)\n",
        "plt.plot(accuracies)\n",
        "plt.legend(['Loss', 'Accuracy'])\n",
        "plt.show()"
      ],
      "metadata": {
        "colab": {
          "base_uri": "https://localhost:8080/",
          "height": 265
        },
        "id": "bUtwTwemLJGs",
        "outputId": "1f96c974-2782-40d8-a562-e00aba8ea8cb"
      },
      "execution_count": null,
      "outputs": [
        {
          "output_type": "display_data",
          "data": {
            "text/plain": [
              "<Figure size 432x288 with 1 Axes>"
            ],
            "image/png": "[encoded data removed]"
          },
          "metadata": {
            "needs_background": "light"
          }
        }
      ]
    },
    {
      "cell_type": "markdown",
      "source": [
        "It looks like the model achieves a very high accuracy and small loss on the training dataset. To see how well it generalizes, let's test on the testing nodes:"
      ],
      "metadata": {
        "id": "30cq1fmqK-my"
      }
    },
    {
      "cell_type": "code",
      "source": [
        "# evaluate the model on test set\n",
        "model.eval()\n",
        "pred = model(data).argmax(dim=1)\n",
        "correct = compute_accuracy(pred[data.test_mask], data.y[data.test_mask])\n",
        "acc = int(correct) / int(data.test_mask.sum())\n",
        "print(f'Accuracy: {acc:.4f}')"
      ],
      "metadata": {
        "colab": {
          "base_uri": "https://localhost:8080/"
        },
        "id": "_6Q354OSLVkG",
        "outputId": "448ace46-8516-4709-a454-9f41e85b907e"
      },
      "execution_count": null,
      "outputs": [
        {
          "output_type": "stream",
          "name": "stdout",
          "text": [
            "Accuracy: 0.8110\n"
          ]
        }
      ]
    },
    {
      "cell_type": "markdown",
      "source": [
        "Very cool! It seems we got a very nice accuracy for the test as well. Our model is doing okay. There are many ways you can go about trying to improve this model, but we will keep that for another time. Hopefully, with this tutorial you got a glimpse of graph data and how to use PyTorch Geometric to train GNNs on a very popular dataset."
      ],
      "metadata": {
        "id": "iwOLBEpgLW3p"
      }
    },
    {
      "cell_type": "code",
      "source": [],
      "metadata": {
        "id": "1sg3VdxrNPCg"
      },
      "execution_count": null,
      "outputs": []
    }
  ]
}
