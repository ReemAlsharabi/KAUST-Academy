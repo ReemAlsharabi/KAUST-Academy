{
 "cells": [
  {
   "cell_type": "code",
   "execution_count": 6,
   "metadata": {
    "id": "y_AqUpUXb_NU"
   },
   "outputs": [],
   "source": [
    "import numpy as np\n",
    "import matplotlib.pyplot as plt\n",
    "import torch\n",
    "from torch import nn, optim\n",
    "import pandas as pd"
   ]
  },
  {
   "cell_type": "code",
   "execution_count": 24,
   "metadata": {
    "id": "na5hcMWQcQ4I"
   },
   "outputs": [],
   "source": [
    "df = pd.read_csv('iris.csv')\n",
    "feature_names = df.keys()\n",
    "X = df.iloc[:, 0:4].to_numpy().astype(np.float32)\n",
    "y = df.iloc[:, 4].to_numpy()\n",
    "y[ y == 'Iris-setosa' ] = 0\n",
    "y[ y == 'Iris-versicolor' ] = 1\n",
    "y[ y == 'Iris-virginica' ] = 2\n",
    "y = y.astype(np.int64)\n",
    "N = y.shape[0]"
   ]
  },
  {
   "cell_type": "code",
   "execution_count": 26,
   "metadata": {},
   "outputs": [
    {
     "data": {
      "text/plain": [
       "(150,)"
      ]
     },
     "execution_count": 26,
     "metadata": {},
     "output_type": "execute_result"
    }
   ],
   "source": [
    "X.shape\n",
    "y.shape"
   ]
  },
  {
   "cell_type": "code",
   "execution_count": 15,
   "metadata": {
    "id": "D0V93OX4cTF8"
   },
   "outputs": [],
   "source": [
    "# make X and y torch tensors\n",
    "X = torch.from_numpy(X)\n",
    "y = torch.from_numpy(y)\n",
    "\n",
    "# model = nn.Sequential(\n",
    "#     nn.Linear(4, 3),\n",
    "#     nn.Softmax(dim=1)\n",
    "# ) \n",
    "\n",
    "model = nn.Linear(4, 3)\n",
    "\n",
    "# training loop\n",
    "loss_fn = nn.CrossEntropyLoss()\n",
    "optimizer = optim.SGD(model.parameters(), lr=1e-2)"
   ]
  },
  {
   "cell_type": "code",
   "execution_count": 16,
   "metadata": {
    "id": "W4-d7M8gcWZY"
   },
   "outputs": [
    {
     "data": {
      "text/plain": [
       "[<matplotlib.lines.Line2D at 0x177e43565b0>]"
      ]
     },
     "execution_count": 16,
     "metadata": {},
     "output_type": "execute_result"
    },
    {
     "data": {
      "image/png": "[encoded data removed]",
      "text/plain": [
       "<Figure size 640x480 with 1 Axes>"
      ]
     },
     "metadata": {},
     "output_type": "display_data"
    }
   ],
   "source": [
    "ls = []\n",
    "for epoch in range(5000):\n",
    "    a = model(X)\n",
    "    loss = loss_fn(a, y) \n",
    "    loss.backward()            # computes the gradient\n",
    "    optimizer.step()           # update params by -lr * gradient\n",
    "    optimizer.zero_grad()      # zero out the gradient for next iteration\n",
    "    ls.append(loss.item())\n",
    "\n",
    "plt.figure()\n",
    "plt.plot(ls)"
   ]
  },
  {
   "cell_type": "code",
   "execution_count": 17,
   "metadata": {
    "id": "wo8AQh28cX2w"
   },
   "outputs": [
    {
     "name": "stdout",
     "output_type": "stream",
     "text": [
      "accuracy:  98.00000190734863 %\n"
     ]
    }
   ],
   "source": [
    "# y_hat = model(X)\n",
    "y_hat = nn.functional.softmax(model(X), dim=1)\n",
    "pred =  torch.argmax(y_hat, dim=1)\n",
    "accuracy = torch.sum((pred == y)) / N \n",
    "print('accuracy: ', accuracy.item()*100, '%')"
   ]
  },
  {
   "cell_type": "code",
   "execution_count": null,
   "metadata": {},
   "outputs": [],
   "source": []
  }
 ],
 "metadata": {
  "colab": {
   "provenance": []
  },
  "kernelspec": {
   "display_name": "Python 3 (ipykernel)",
   "language": "python",
   "name": "python3"
  },
  "language_info": {
   "codemirror_mode": {
    "name": "ipython",
    "version": 3
   },
   "file_extension": ".py",
   "mimetype": "text/x-python",
   "name": "python",
   "nbconvert_exporter": "python",
   "pygments_lexer": "ipython3",
   "version": "3.9.13"
  }
 },
 "nbformat": 4,
 "nbformat_minor": 1
}
