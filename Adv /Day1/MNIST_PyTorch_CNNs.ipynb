{
  "nbformat": 4,
  "nbformat_minor": 0,
  "metadata": {
    "colab": {
      "provenance": [],
      "include_colab_link": true
    },
    "kernelspec": {
      "name": "python3",
      "display_name": "Python 3"
    },
    "language_info": {
      "name": "python"
    },
    "accelerator": "GPU"
  },
  "cells": [
    {
      "cell_type": "markdown",
      "metadata": {
        "id": "view-in-github",
        "colab_type": "text"
      },
      "source": [
        "<a href=\"https://colab.research.google.com/github/ReemAlsharabi/KAUST-Academy/blob/main/Adv%20/Day1/MNIST_PyTorch_CNNs.ipynb\" target=\"_parent\"><img src=\"https://colab.research.google.com/assets/colab-badge.svg\" alt=\"Open In Colab\"/></a>"
      ]
    },
    {
      "cell_type": "markdown",
      "source": [
        "In this notebook, we will implement a Convoulutional Neural Network (CNN) using pytorch for MNIST Classification."
      ],
      "metadata": {
        "id": "4Eo1RFp4AmuA"
      }
    },
    {
      "cell_type": "markdown",
      "source": [
        "Expectations: Please provide solutions to the questions in the cells at the end of the notebook."
      ],
      "metadata": {
        "id": "_-O8HVTpkbZm"
      }
    },
    {
      "cell_type": "code",
      "execution_count": 1,
      "metadata": {
        "id": "Vqg8SEXq55vV"
      },
      "outputs": [],
      "source": [
        "import torch\n",
        "import torch.nn as nn\n",
        "import torch.nn.functional as F\n",
        "import torch.optim as optim\n",
        "import numpy as np\n",
        "import matplotlib.pyplot as plt\n",
        "from torchvision import models,transforms\n",
        "from torchvision.utils import make_grid\n",
        "from torchvision.datasets import MNIST\n",
        "from torch.utils.data.sampler import SubsetRandomSampler\n",
        "from torch.utils.tensorboard import SummaryWriter\n",
        "from torchsummary import summary\n",
        "from torch.utils.data import Dataset, DataLoader"
      ]
    },
    {
      "cell_type": "markdown",
      "source": [
        "We will be using MNIST Disgits datasets. The MNIST Digits dataset consists of 70000 28x28 grayscale images of digits from 0 to 9, with 6000 images per class. There are 60000 training images and 10000 test images. <br>\n",
        "\n",
        "Following are the some random samples from the dataset.\n",
        "\n",
        "![MNIST Samples](https://www.yunzhew.com/project/mnist-digit-net/featured_hudee2c27f78ea2485e0d3aa44abbfc53c_218555_720x2500_fit_q75_h2_lanczos_3.webp)"
      ],
      "metadata": {
        "id": "dSlDpJqVBLoL"
      }
    },
    {
      "cell_type": "markdown",
      "source": [
        "We will use pytorch datasets to fetch the MNIST Digits dataset as it provides a handy way to get and use the dataset. More information about pytorch datasets [here](https://pytorch.org/vision/stable/datasets.html)."
      ],
      "metadata": {
        "id": "zK94z-ilDh0l"
      }
    },
    {
      "cell_type": "code",
      "source": [
        "batch_sz=64 # this is batch size i.e. the number of rows in a batch of data\n",
        "\n",
        "train_dataset = MNIST(root='./datasets', train=True, download=True, transform = transforms.ToTensor())\n",
        "test_dataset = MNIST(root='./datasets', train=False, download=True, transform = transforms.ToTensor())\n",
        "\n",
        "train_loader = DataLoader(train_dataset, batch_size = batch_sz)\n",
        "test_loader = DataLoader(test_dataset, batch_size = batch_sz)"
      ],
      "metadata": {
        "colab": {
          "base_uri": "https://localhost:8080/"
        },
        "id": "8AQyKnqBbm9X",
        "outputId": "e30431e1-2191-47f9-9801-c311918e379e"
      },
      "execution_count": 2,
      "outputs": [
        {
          "output_type": "stream",
          "name": "stdout",
          "text": [
            "Downloading http://yann.lecun.com/exdb/mnist/train-images-idx3-ubyte.gz\n",
            "Downloading http://yann.lecun.com/exdb/mnist/train-images-idx3-ubyte.gz to ./datasets/MNIST/raw/train-images-idx3-ubyte.gz\n"
          ]
        },
        {
          "output_type": "stream",
          "name": "stderr",
          "text": [
            "100%|██████████| 9912422/9912422 [00:00<00:00, 97109108.93it/s]\n"
          ]
        },
        {
          "output_type": "stream",
          "name": "stdout",
          "text": [
            "Extracting ./datasets/MNIST/raw/train-images-idx3-ubyte.gz to ./datasets/MNIST/raw\n",
            "\n",
            "Downloading http://yann.lecun.com/exdb/mnist/train-labels-idx1-ubyte.gz\n",
            "Downloading http://yann.lecun.com/exdb/mnist/train-labels-idx1-ubyte.gz to ./datasets/MNIST/raw/train-labels-idx1-ubyte.gz\n"
          ]
        },
        {
          "output_type": "stream",
          "name": "stderr",
          "text": [
            "100%|██████████| 28881/28881 [00:00<00:00, 115587494.11it/s]\n"
          ]
        },
        {
          "output_type": "stream",
          "name": "stdout",
          "text": [
            "Extracting ./datasets/MNIST/raw/train-labels-idx1-ubyte.gz to ./datasets/MNIST/raw\n",
            "\n",
            "Downloading http://yann.lecun.com/exdb/mnist/t10k-images-idx3-ubyte.gz\n",
            "Downloading http://yann.lecun.com/exdb/mnist/t10k-images-idx3-ubyte.gz to ./datasets/MNIST/raw/t10k-images-idx3-ubyte.gz\n"
          ]
        },
        {
          "output_type": "stream",
          "name": "stderr",
          "text": [
            "100%|██████████| 1648877/1648877 [00:00<00:00, 25376903.56it/s]\n"
          ]
        },
        {
          "output_type": "stream",
          "name": "stdout",
          "text": [
            "Extracting ./datasets/MNIST/raw/t10k-images-idx3-ubyte.gz to ./datasets/MNIST/raw\n",
            "\n",
            "Downloading http://yann.lecun.com/exdb/mnist/t10k-labels-idx1-ubyte.gz\n",
            "Downloading http://yann.lecun.com/exdb/mnist/t10k-labels-idx1-ubyte.gz to ./datasets/MNIST/raw/t10k-labels-idx1-ubyte.gz\n"
          ]
        },
        {
          "output_type": "stream",
          "name": "stderr",
          "text": [
            "100%|██████████| 4542/4542 [00:00<00:00, 13350055.20it/s]\n"
          ]
        },
        {
          "output_type": "stream",
          "name": "stdout",
          "text": [
            "Extracting ./datasets/MNIST/raw/t10k-labels-idx1-ubyte.gz to ./datasets/MNIST/raw\n",
            "\n"
          ]
        }
      ]
    },
    {
      "cell_type": "code",
      "source": [
        "len(train_loader)"
      ],
      "metadata": {
        "colab": {
          "base_uri": "https://localhost:8080/"
        },
        "id": "FQ9DoKj7b9oE",
        "outputId": "7b826694-d0ee-463a-cfa1-374ecea59aea"
      },
      "execution_count": 3,
      "outputs": [
        {
          "output_type": "execute_result",
          "data": {
            "text/plain": [
              "938"
            ]
          },
          "metadata": {},
          "execution_count": 3
        }
      ]
    },
    {
      "cell_type": "code",
      "source": [
        "batch  = next(iter(train_loader))\n",
        "batch[0].shape"
      ],
      "metadata": {
        "id": "VHw_SBfg8HS5",
        "outputId": "e9cb5fd5-097d-472e-9993-31f9368fc074",
        "colab": {
          "base_uri": "https://localhost:8080/"
        }
      },
      "execution_count": 50,
      "outputs": [
        {
          "output_type": "execute_result",
          "data": {
            "text/plain": [
              "torch.Size([64, 1, 28, 28])"
            ]
          },
          "metadata": {},
          "execution_count": 50
        }
      ]
    },
    {
      "cell_type": "markdown",
      "source": [
        "## Convolutional Neural Networks"
      ],
      "metadata": {
        "id": "u65mV2e_2H_8"
      }
    },
    {
      "cell_type": "markdown",
      "source": [
        "Now, we will construct a Convolutional Neural Network. Convolutional neural networks are a type of neural networks which are typically applied to image data. They work by convolving a filter on an image. Filters act as weights of CNN and we learn these filters to extract useful information from an image. Filters are also sometimes called kernels.\n",
        "<br>\n",
        "\n",
        "We element-wise muliply a filter with a patch of input data and then sum the result.<br>\n",
        "$$z_{ij} = W \\star x_{ij} = \\sum^{m-1}_{a=0}\\sum^{m-1}_{b=0} W_{ab} \\: x_{(i+a)(j+b)}$$\n",
        "![convolution](https://upload.wikimedia.org/wikipedia/commons/1/19/2D_Convolution_Animation.gif) [source](https://commons.wikimedia.org/wiki/File:2D_Convolution_Animation.gif)\n",
        "\n",
        "<br>\n",
        "\n",
        "A convolutional layer in a CNN consists of a number applying a number of such filters to the input. The output of each of these filters is stacked in the form of multiple channels (just like we have 3 channesl in an RGB image). The filters then also become 3-dimensional.\n",
        "\n",
        "![2d conv](https://miro.medium.com/v2/resize:fit:1100/format:webp/1*oFVlkvZp848nh-QoD3pREw.png) [source](https://towardsdatascience.com/a-comprehensive-introduction-to-different-types-of-convolutions-in-deep-learning-669281e58215)"
      ],
      "metadata": {
        "id": "_nQ-MHGI2MuW"
      }
    },
    {
      "cell_type": "markdown",
      "source": [
        "### Stride"
      ],
      "metadata": {
        "id": "4ooJgob8AywM"
      }
    },
    {
      "cell_type": "markdown",
      "source": [
        "When we are dealing with convolution on images of very large size, its not always required to convolve over each and every pixel of an image. So we can set the subsequent convolutions to be shifted by more than one pixel in either the vertical or horizontal axis. This shift in subsequent convolutions is called the stride.\n",
        "\n",
        "![stride](https://miro.medium.com/v2/resize:fit:1400/1*BNLPHcNxLCgtwlJHnSs9oA.gif) [source](https://medium.com/swlh/convolutional-neural-networks-part-2-padding-and-strided-convolutions-c63c25026eaa)"
      ],
      "metadata": {
        "id": "dv8twKrxA1LI"
      }
    },
    {
      "cell_type": "markdown",
      "source": [
        "### Pooling"
      ],
      "metadata": {
        "id": "PT-HLosN9unN"
      }
    },
    {
      "cell_type": "markdown",
      "source": [
        "The pooling operation involves sliding a two-dimensional filter over each channel of feature map and summarising the features lying within the region covered by the filter. \n",
        "\n",
        "Pooling layers are used to reduce the dimensions of the feature maps and summarising the featre maps.\n",
        "\n",
        "Types of Pooling Layers:\n",
        "1.   Max Pooling: <br>\n",
        "Max pooling is a pooling operation that selects the maximum element from the region of the feature map covered by the filter. This is the most commonly used pooling layer.\n",
        "![Max Pooling](https://media.geeksforgeeks.org/wp-content/uploads/20190721025744/Screenshot-2019-07-21-at-2.57.13-AM.png) [source](https://www.geeksforgeeks.org/cnn-introduction-to-pooling-layer/)\n",
        "\n",
        "\n",
        "2.   Average Pooling: <br>\n",
        "Average pooling computes the average of the elements present in the region of feature map covered by the filter.\n",
        "![Avg Pooling](https://media.geeksforgeeks.org/wp-content/uploads/20190721030705/Screenshot-2019-07-21-at-3.05.56-AM.png) [source](https://www.geeksforgeeks.org/cnn-introduction-to-pooling-layer/)\n",
        "\n"
      ],
      "metadata": {
        "id": "spWnWvfo9w8a"
      }
    },
    {
      "cell_type": "markdown",
      "source": [
        "### Convolutional Neural Network\n",
        "A common CNN model architecture is to have a number of convolution and pooling layers stacked one after the other.\n",
        "![cnn](https://indiantechwarrior.com/wp-content/uploads/2021/04/LeNet-1024x393.png) [source](https://indiantechwarrior.com/convolutional-neural-network-architecture/)\n",
        "\n"
      ],
      "metadata": {
        "id": "cdzVnj6vC2Em"
      }
    },
    {
      "cell_type": "markdown",
      "source": [
        "We will use the categorical crossentropy loss here which is traditionally used for classification.\n",
        "\n",
        "$$\\mathcal{L} = \\frac{1}{N} \\sum^{N}_{i=1} \\left ( \\sum^{C}_{j=1} -y_{i,j}\\: log(\\hat{y}_{i,j}) \\right )$$\n",
        "\n",
        "where $y_i,j$ is the groundtruth, $\\hat{y}_{i,j}$ is the prediction, $C$ is the number classes and $N$ is the number of data samples."
      ],
      "metadata": {
        "id": "LXe05pWKDxgk"
      }
    },
    {
      "cell_type": "code",
      "source": [],
      "metadata": {
        "id": "xdQbo2bm8jZU"
      },
      "execution_count": null,
      "outputs": []
    },
    {
      "cell_type": "code",
      "source": [
        "#Q1: define a 2 layer simple NN for mnist digit classificaiton"
      ],
      "metadata": {
        "id": "0__ql-1B6f-3"
      },
      "execution_count": 4,
      "outputs": []
    },
    {
      "cell_type": "code",
      "source": [
        "#Q2: Define a CNN with 2 conv layer and 2 linear layers for mnist digit classification\n",
        "\n",
        "class CNNs(nn.Module):\n",
        "  def __init__(self):\n",
        "    super().__init__()\n",
        "    self.conv1 = nn.Conv2d(1,8, 3, 1) #a single channel representing the intensity values,8 filters (output channels), a kernel size of 3x3, and a stride of 1.\n",
        "    self.conv2 = nn.Conv2d(8, 16, 3, 1)\n",
        "\n",
        "    self.linear1 = nn.Linear(16*5*5, 100) # the first linear layer linear1. It takes the flattened output from the previous convolutional layer (conv2) with a shape of 16x5x5 (16 channels, each with a spatial size of 5x5) and produces an output of size 100\n",
        "    self.linear2 = nn.Linear(100, 10)\n",
        "\n",
        "\n",
        "  def forward(self, x):\n",
        "    # x-->(bs, 1, 28, 28)\n",
        "    x = self.conv1(x)\n",
        "    x = torch.relu(x)\n",
        "    # x -->(bs,8, 26, 26)\n",
        "    # output_size = [(input_size - kernel_size + 2 * padding) / stride] + 1\n",
        "    x = F.max_pool2d(x, (2,2)) #after applying the first convolutional layer (conv1) and the subsequent max pooling operation, the spatial dimensions of the tensor are halved. \n",
        "    # x -->(bs,8, 13, 13)\n",
        "    x = self.conv2(x)\n",
        "    x = torch.relu(x)\n",
        "    # x -->(bs,16, 11, 11)\n",
        "    x = F.max_pool2d(x, (2,2))\n",
        "    # x -->(bs,16, 5, 5)\n",
        "    x = x.view(-1, 16*5*5)\n",
        "    x = self.linear1(x)\n",
        "    x = torch.relu(x)\n",
        "    x = self.linear2(x)\n",
        "    return x"
      ],
      "metadata": {
        "id": "qPzVoKv26mqo"
      },
      "execution_count": 51,
      "outputs": []
    },
    {
      "cell_type": "code",
      "source": [
        "#Q3: Train both networks for 10 epochs and compare their performance \n",
        "from numpy.lib.twodim_base import tri\n",
        "device = torch.device(\"cuda:0\")\n",
        "net = CNNs().to(device)\n",
        "num_epochs=10\n",
        "lr=0.1\n",
        "momentum=0.5\n",
        "ls=[]\n",
        "\n",
        "opt=optim.SGD(net.parameters(),lr=lr,momentum=momentum)\n",
        "\n",
        "for i in range(num_epochs):\n",
        "  for batch in train_loader:\n",
        "    x,y=batch[0].to(device),batch[1].to(device)\n",
        "    yhat=net(x)\n",
        "    loss=F.cross_entropy(yhat,y)\n",
        "    opt.zero_grad()\n",
        "    loss.backward()\n",
        "    opt.step()\n",
        "    total_loss=+loss.item()\n",
        "  ls.append(total_loss/len(train_loader))\n",
        "\n",
        "plt.plot(ls)"
      ],
      "metadata": {
        "id": "4tF40n3B668b",
        "outputId": "6d88a0fd-594c-4738-c723-5ad83faa734d",
        "colab": {
          "base_uri": "https://localhost:8080/",
          "height": 463
        }
      },
      "execution_count": 61,
      "outputs": [
        {
          "output_type": "execute_result",
          "data": {
            "text/plain": [
              "[<matplotlib.lines.Line2D at 0x7f5a70d31420>]"
            ]
          },
          "metadata": {},
          "execution_count": 61
        },
        {
          "output_type": "display_data",
          "data": {
            "text/plain": [
              "<Figure size 640x480 with 1 Axes>"
            ],
            "image/png": "[encoded data removed]"
          },
          "metadata": {}
        }
      ]
    },
    {
      "cell_type": "code",
      "source": [
        "#Q4: Compare the accuarcay of both networks on the test set\n",
        "\n",
        "incorrect_samples = []\n",
        "\n",
        "for i in range(num_epochs):\n",
        "    for batch in test_loader:\n",
        "        x, y = batch[0].to(device), batch[1].to(device)\n",
        "        outputs = net(x)\n",
        "        _, predicted = torch.max(outputs.data, 1)\n",
        "        total += y.size(0)\n",
        "        correct += (predicted == y).sum().item()\n",
        "\n",
        "        incorrect_indices = (predicted != y).nonzero()[:, 0]\n",
        "        incorrect_samples.extend(x[incorrect_indices])\n",
        "\n",
        "accuracy = 100 * correct / total\n",
        "print(f\"Accuracy: {accuracy}%\")"
      ],
      "metadata": {
        "id": "x0AauPBu7mQT",
        "outputId": "5ff5fea8-17d5-40c9-e852-8251baf58c80",
        "colab": {
          "base_uri": "https://localhost:8080/"
        }
      },
      "execution_count": 62,
      "outputs": [
        {
          "output_type": "stream",
          "name": "stdout",
          "text": [
            "Accuracy: 97.36021931287524%\n"
          ]
        }
      ]
    },
    {
      "cell_type": "code",
      "source": [
        "#Q5: go through the testset and plot some samples of incorrect results\n",
        "plt.figure(figsize=(10, 10))\n",
        "for i in range(min(9, len(incorrect_samples))):\n",
        "    plt.subplot(5, 5, i + 1)\n",
        "    plt.imshow(incorrect_samples[i].cpu().numpy().transpose(1, 2, 0))\n",
        "    plt.axis('off')\n",
        "\n",
        "plt.tight_layout()\n",
        "plt.show()"
      ],
      "metadata": {
        "id": "_-cN-QfD7uoC",
        "outputId": "60f2366c-762c-4b95-a370-c0bb1b695ad5",
        "colab": {
          "base_uri": "https://localhost:8080/",
          "height": 415
        }
      },
      "execution_count": 65,
      "outputs": [
        {
          "output_type": "display_data",
          "data": {
            "text/plain": [
              "<Figure size 1000x1000 with 9 Axes>"
            ],
            "image/png": "[encoded data removed]"
          },
          "metadata": {}
        }
      ]
    },
    {
      "cell_type": "code",
      "source": [
        "#Q6: show the output of the intermediate layers"
      ],
      "metadata": {
        "id": "38vMW-mI72cE"
      },
      "execution_count": null,
      "outputs": []
    },
    {
      "cell_type": "code",
      "source": [
        "#Q7: Compare the time of training on CPU and GPU"
      ],
      "metadata": {
        "id": "PGRQUcd0i22U"
      },
      "execution_count": null,
      "outputs": []
    }
  ]
}